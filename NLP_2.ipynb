{
  "nbformat": 4,
  "nbformat_minor": 0,
  "metadata": {
    "colab": {
      "name": "NLP--2.ipynb",
      "provenance": [],
      "collapsed_sections": []
    },
    "kernelspec": {
      "name": "python3",
      "display_name": "Python 3"
    }
  },
  "cells": [
    {
      "cell_type": "code",
      "metadata": {
        "id": "M2NYtcZt2fnC",
        "colab_type": "code",
        "colab": {
          "base_uri": "https://localhost:8080/",
          "height": 170
        },
        "outputId": "24713af2-4384-4568-9db0-044c8d8bf26b"
      },
      "source": [
        "import string\n",
        "\n",
        "from collections import Counter\n",
        "\n",
        "import matplotlib.pyplot as plt\n",
        "\n",
        "from nltk.corpus import stopwords\n",
        "\n",
        "from nltk.sentiment.vader import SentimentIntensityAnalyzer\n",
        "\n",
        "from nltk.stem import WordNetLemmatizer\n",
        "\n",
        "from nltk.tokenize import word_tokenize\n",
        "\n",
        "import nltk\n",
        "nltk.download('vader_lexicon')\n",
        "import warnings\n",
        "warnings.filterwarnings('ignore')\n",
        "import nltk\n",
        "nltk.download('punkt')\n",
        "import nltk\n",
        "nltk.download('stopwords')\n",
        "import nltk\n",
        "nltk.download('wordnet')\n",
        "  "
      ],
      "execution_count": null,
      "outputs": [
        {
          "output_type": "stream",
          "text": [
            "[nltk_data] Downloading package vader_lexicon to /root/nltk_data...\n",
            "[nltk_data]   Package vader_lexicon is already up-to-date!\n",
            "[nltk_data] Downloading package punkt to /root/nltk_data...\n",
            "[nltk_data]   Package punkt is already up-to-date!\n",
            "[nltk_data] Downloading package stopwords to /root/nltk_data...\n",
            "[nltk_data]   Unzipping corpora/stopwords.zip.\n",
            "[nltk_data] Downloading package wordnet to /root/nltk_data...\n",
            "[nltk_data]   Unzipping corpora/wordnet.zip.\n"
          ],
          "name": "stdout"
        },
        {
          "output_type": "execute_result",
          "data": {
            "text/plain": [
              "True"
            ]
          },
          "metadata": {
            "tags": []
          },
          "execution_count": 12
        }
      ]
    },
    {
      "cell_type": "code",
      "metadata": {
        "id": "0dBcpdb1iJFe",
        "colab_type": "code",
        "colab": {}
      },
      "source": [
        "text = open('corona.txt', encoding=\"utf-8\").read()\n",
        "lower_case = text.lower()\n",
        "cleaned_text = lower_case.translate(str.maketrans('', '', string.punctuation))\n",
        "from nltk.tokenize import word_tokenize\n",
        "tokenized_words = word_tokenize(cleaned_text, \"english\")"
      ],
      "execution_count": null,
      "outputs": []
    },
    {
      "cell_type": "code",
      "metadata": {
        "id": "K59dwYcQ2VLJ",
        "colab_type": "code",
        "colab": {}
      },
      "source": [
        "final_words = []\n",
        "for word in tokenized_words:\n",
        "    if word not in stopwords.words('english'):\n",
        "        final_words.append(word)"
      ],
      "execution_count": null,
      "outputs": []
    },
    {
      "cell_type": "code",
      "metadata": {
        "id": "3XLFhUmt2VPg",
        "colab_type": "code",
        "colab": {}
      },
      "source": [
        "lemma_words = []\n",
        "for word in final_words:\n",
        "    word = WordNetLemmatizer().lemmatize(word)\n",
        "    lemma_words.append(word)"
      ],
      "execution_count": null,
      "outputs": []
    },
    {
      "cell_type": "code",
      "metadata": {
        "id": "MPFvwRy92KYF",
        "colab_type": "code",
        "colab": {
          "base_uri": "https://localhost:8080/",
          "height": 119
        },
        "outputId": "b2e7cce2-78e0-4a01-b9ad-89a623573197"
      },
      "source": [
        "emotion_list = []\n",
        "with open('emotions.txt', 'r') as file:\n",
        "    for line in file:\n",
        "        clear_line = line.replace(\"\\n\", '').replace(\",\", '').replace(\"'\", '').strip()\n",
        "        word, emotion = clear_line.split(':')\n",
        "\n",
        "        if word in lemma_words:\n",
        "            emotion_list.append(emotion)\n",
        "            \n",
        "print(\"People emotions from the text \\n\", emotion_list, '\\n \\n')\n",
        "w = Counter(emotion_list)\n",
        "print(\"Count of each emotion \\n\", w)"
      ],
      "execution_count": null,
      "outputs": [
        {
          "output_type": "stream",
          "text": [
            "People emotions from the text \n",
            " [' fearless', ' focused', ' free', ' entitled', ' sad', ' free', ' esteemed', ' lost', ' focused', ' sad'] \n",
            " \n",
            "\n",
            "Count of each emotion \n",
            " Counter({' focused': 2, ' free': 2, ' sad': 2, ' fearless': 1, ' entitled': 1, ' esteemed': 1, ' lost': 1})\n"
          ],
          "name": "stdout"
        }
      ]
    },
    {
      "cell_type": "code",
      "metadata": {
        "id": "A1UfNp_ojfg-",
        "colab_type": "code",
        "colab": {}
      },
      "source": [
        "def sentiment_analyse(sentiment_text):\n",
        "    \n",
        "    score = SentimentIntensityAnalyzer().polarity_scores(sentiment_text)\n",
        "    print(score)\n",
        "\n",
        "    if score['neg'] > score['pos']:\n",
        "        print(\"\\n     ******Negative Sentiment*******\")\n",
        "        \n",
        "    elif score['neg'] < score['pos']:\n",
        "        print(\"\\n     ******Positive Sentiment*******\")\n",
        "    else:\n",
        "        print(\"Neutral Sentiment\")"
      ],
      "execution_count": null,
      "outputs": []
    },
    {
      "cell_type": "code",
      "metadata": {
        "id": "rrY9ZaynjgaR",
        "colab_type": "code",
        "colab": {
          "base_uri": "https://localhost:8080/",
          "height": 320
        },
        "outputId": "d07de090-fbfe-43b0-8c36-6b805f4fe34b"
      },
      "source": [
        "sentiment_analyse(cleaned_text)\n",
        "\n",
        "fig, ax1 = plt.subplots()\n",
        "ax1.bar(w.keys(), w.values())\n",
        "fig.autofmt_xdate()\n",
        "plt.savefig('graph.png')\n",
        "plt.show()"
      ],
      "execution_count": null,
      "outputs": [
        {
          "output_type": "stream",
          "text": [
            "{'neg': 0.058, 'neu': 0.836, 'pos': 0.106, 'compound': 0.9983}\n",
            "\n",
            "     ******Positive Sentiment*******\n"
          ],
          "name": "stdout"
        },
        {
          "output_type": "display_data",
          "data": {
            "image/png": "[encoded data removed]",
            "text/plain": [
              "<Figure size 432x288 with 1 Axes>"
            ]
          },
          "metadata": {
            "tags": [],
            "needs_background": "light"
          }
        }
      ]
    },
    {
      "cell_type": "code",
      "metadata": {
        "id": "NTPu2A_KjiTJ",
        "colab_type": "code",
        "colab": {}
      },
      "source": [
        ""
      ],
      "execution_count": null,
      "outputs": []
    }
  ]
}