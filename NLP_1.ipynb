{
  "nbformat": 4,
  "nbformat_minor": 0,
  "metadata": {
    "colab": {
      "name": "NLP--1.ipynb",
      "provenance": [],
      "collapsed_sections": []
    },
    "kernelspec": {
      "name": "python3",
      "display_name": "Python 3"
    }
  },
  "cells": [
    {
      "cell_type": "code",
      "metadata": {
        "id": "UPaqnH-IRRgl",
        "colab_type": "code",
        "colab": {}
      },
      "source": [
        "from collections import Counter \n",
        "import string"
      ],
      "execution_count": null,
      "outputs": []
    },
    {
      "cell_type": "code",
      "metadata": {
        "id": "ib9XEin5Vgc9",
        "colab_type": "code",
        "colab": {
          "base_uri": "https://localhost:8080/",
          "height": 85
        },
        "outputId": "4788d317-5d39-4bd5-d710-772d9813ac1d"
      },
      "source": [
        "import matplotlib.pyplot as plt\n",
        "!pip install GetOldTweets3"
      ],
      "execution_count": null,
      "outputs": [
        {
          "output_type": "stream",
          "text": [
            "Requirement already satisfied: GetOldTweets3 in /usr/local/lib/python3.6/dist-packages (0.0.11)\n",
            "Requirement already satisfied: pyquery>=1.2.10 in /usr/local/lib/python3.6/dist-packages (from GetOldTweets3) (1.4.1)\n",
            "Requirement already satisfied: lxml>=3.5.0 in /usr/local/lib/python3.6/dist-packages (from GetOldTweets3) (4.2.6)\n",
            "Requirement already satisfied: cssselect>0.7.9 in /usr/local/lib/python3.6/dist-packages (from pyquery>=1.2.10->GetOldTweets3) (1.1.0)\n"
          ],
          "name": "stdout"
        }
      ]
    },
    {
      "cell_type": "code",
      "metadata": {
        "id": "R06jlITGVZLK",
        "colab_type": "code",
        "colab": {}
      },
      "source": [
        "def get_tweets():\n",
        "  import GetOldTweets3 as got\n",
        "  tweetCriteria=got.manager.TweetCriteria().setQuerySearch('Covid-19')\\\n",
        "    .setSince(\"2020-02-20\")\\\n",
        "    .setUntil(\"2020-03-20\")\\\n",
        "    .setMaxTweets(250)\n",
        "  tweets=got.manager.TweetManager.getTweets(tweetCriteria)\n",
        "  text_tweets=[[tweet.text] for tweet in tweets]\n",
        "  return text_tweets"
      ],
      "execution_count": null,
      "outputs": []
    },
    {
      "cell_type": "code",
      "metadata": {
        "id": "uOEo4VJRXC3K",
        "colab_type": "code",
        "colab": {}
      },
      "source": [
        "text= \"\"\n",
        "text_tweets=get_tweets()\n",
        "length=len(text_tweets)\n",
        "for i in range(0,length):\n",
        "  text=text_tweets[i][0] + \" \" + text\n",
        "\n",
        "lower_case=text.lower()\n",
        "cleaned_text=lower_case.translate(str.maketrans('','',string.punctuation))\n",
        "tokenized_words=cleaned_text.split()\n"
      ],
      "execution_count": null,
      "outputs": []
    },
    {
      "cell_type": "code",
      "metadata": {
        "id": "xgowUumeYAxC",
        "colab_type": "code",
        "colab": {
          "base_uri": "https://localhost:8080/",
          "height": 1000
        },
        "outputId": "f3eb1060-cacb-4d9c-cbf8-0fad89fc11f8"
      },
      "source": [
        "text_tweets"
      ],
      "execution_count": null,
      "outputs": [
        {
          "output_type": "execute_result",
          "data": {
            "text/plain": [
              "[['We should expand Medicare to include everyone in an at-risk demographic for #COVID19 immediately. Everyone over 45. Everyone with pre-existing conditions. Everyone classified as “essential” and must work with the public during this crisis.'],\n",
              " [\"Me wondering why it's taken @765nic this long to create a meme about me and COVID-19... \"],\n",
              " ['Hace unas semanas andaba llamando a marchar cuando ya habian confirmados con COVID-19 en Chile ... completamente descriteriada! '],\n",
              " ['COVID-19: Keeping safe and The Icehouse Community https://hubs.ly/H0nJ-TJ0 Now is the perfect time to update our network and friends on how we at The Icehouse are responding to the Coronavirus (COVID-19) situation. #covid-19 #theicehouse #strongertogether'],\n",
              " ['#COVID19 | Confirmaron 31 nuevos casos y suman 128 los infectados en todo el país http://bit.ly/3bcrOdo #CoronavirusEnArgentina'],\n",
              " ['Disaster scenarios out of #Iran re #coronavirus. 18k \"official\" cases, likely double or triple that. Experts estimate best case scenario 120k infected w/ 12k deaths. Worst case is 4 million cases w/ 3.5 million deaths - staggering 87% fatality. #Covid_19 '],\n",
              " [\" c'est une blague??? La France touche le fond!!! @afpfr @EmmanuelMacron @gerardcollomb @villedelyon @BFMLyon #lyon #France #COVID19 #RESTEZCHEZVOUS #SDF @Actions_SDF #JeResteChezMoi #ConfinementJour3 #coronavirus #Covid_19 #TPMP #FightCOVID19 #StayAtHomeChallenge #CODVID19\"],\n",
              " ['Sudamérica registra más de 1.800 casos de Covid-19 '],\n",
              " ['EVERYONE needs to see this and understand it! #COVID19 #SocialDistancing'],\n",
              " ['As promised, here it is! Watch the full CEC webinar, \"Teaching Special Education Online During COVID-19\": http://ow.ly/tblI50yQuRs https://register.gotowebinar.com/recording/1509526516513405185'],\n",
              " ['During these uncertain times, the children in our community need you now more than ever to ensure funding for crucial medical care, therapies, and equipment continues. Our full #COVID19 Update: '],\n",
              " ['#NoSeasGilQuedateEnCasa Tomemos conciencia .. seamos responsables .. nos cuidamos entre todos .. es deber de todos cumplir con el aislamiento total para parar el virus del COVID-19 '],\n",
              " ['Só pra ninguém esquecer ... #pandemia #covid19 #covid19brasil #coronavirusnobrasil #coronavirus'],\n",
              " ['Someone was asking how to talk to kids about #covid19 on @KatiMorton Instagram live so thought these might help. '],\n",
              " ['THE Monetary Board (MB) slashed the interest rates of Bangko Sentral ng Pilipinas (BSP) for the second time this year to inject liquidity into the economy and temper the ill effects of the coronavirus disease 2019 (Covid-19) pandemic. https://businessmirror.com.ph/2020/03/20/rate-cut-to-shield-phl-from-impact-of-virus/ via @businessmirror'],\n",
              " ['CDC Cautions Health Professionals Conducting COVID-19 Autopsies '],\n",
              " ['Check out the latest numbers behind the COVID-19 virus! https://19-ncov.org'],\n",
              " ['Stay safe and protect your self from covid 19 I pray God will help us'],\n",
              " [\"Le Prefet de Meurthe et Moselle et le Luxembourg ont convenu d'un accord pour le personnel hospitalier #Covid_19 \"],\n",
              " [\"I wanted to share a few words of positivity based on some conversations I've had today and seeing the incredible work our NHS do. #westandtogether #covid19 #coronavirus #nhs #thankyounhs #recruitmentconsultant #recruitinglife #keeprighton #notyouraeragerecruiter #bickers\"],\n",
              " ['CDC Reportedly Sidelined By \"Chaos\" Surrounding Trump’s COVID-19 Task Force Briefings, Impairing Their Ability To Properly Inform The Public https://politicaltribune.org/cdc-reportedly-sidelined-by-chaos-surrounding-trumps-covid-19-task-force-briefings-impairing-their-ability-to-properly-inform-the-public/ via @dc_tribune'],\n",
              " ['@JulianCastro America needs to work with WHO in order to address Covid 19 Pandemic better and faster !'],\n",
              " ['#YomeInformopma digan las provincias donde han salido positivos los casos de covid 19'],\n",
              " ['Kris Greene, a Victoria homeless woman, crashed a news conference at city hall wanting to know how the City will help people like her during the COVID19 pandemic. #yyj #homelessness https://www.iheartradio.ca/cfax-1070/news/victoria-homeless-worry-about-shelter-shutdowns-over-covid19-1.10933413'],\n",
              " ['Nós do #mudasenado estamos divulgando o manifesto entregue ao ministro Luiz Ramos, da Secretaria de Governo, pedindo para que o presidente Bolsonaro retire o PLN 4/2020, a fim de destinar a verba para o combate ao Covid-19. Veja:'],\n",
              " ['“#Covid19 tEsT kItS aRe sCaRce iN tHe U.s” meanwhile the rich, celebrities and athletes are getting handed tests w/o showing symptoms like it’s free samples from H-E-B.'],\n",
              " ['Namun larangan ini bukanlah serta-merta dikuatkuasakan ketika kita mendapat gelombang pertama covid-19. Kerana kedaan masih terkawal &amp; pihak KKM dapat mengenal pasti individu yg dijangkiti. Maka virus ini cukup terkawal &amp; di JAMIN tidak merebak. Mereka telah dikuarantinkan.'],\n",
              " ['Only post COVID-19!!!'],\n",
              " [' INFORMACIÓN IMPORTANTE VEA DATOS MUNDIALES EN TIEMPO REAL COVID-19 AQUÍ https://gisanddata.maps.arcgis.com/apps/opsdashboard/index.html#/bda7594740fd40299423467b48e9ecf6'],\n",
              " ['TAC & Workplace injury victims with funds held in trust with the Supreme Court of VIC receive franking credits. FIC invested in the financial markets are likely to be adversely impacted by the COVID19 economic shock. #FrankingCredits'],\n",
              " ['Depediendo de como termina el dolar a fin de año debido a las alteraciones causadas por el COVID19 y el pleito de los precios del petroleo'],\n",
              " ['Suspensión laboral a partir del 20 de Marzo del 2020 por Covid-19 checa si tu empresa aparece en la lista. Empresas: https://bit.ly/3d7lupk #coronavirus'],\n",
              " ['Kami mohon langkah konkrit serta ketegasan sikap Gubernur DKI Jakarta bapak @aniesbaswedan serta perangkatnya @Disnaketransdki @DKIJakarta @Humas_DKI utk menyetop segala aktifitas pekerja di ibukota ini. Karena sudah banyak kasus covid-19 yg tersebar di JKT.'],\n",
              " ['Blame the media on this COVID-19 BS!'],\n",
              " ['Idol, sa dami ng mga nilabas na warning abt covid 19, eto ang pinaka naappreciate ko. Direct to the point sa language na maiintindihan ng ordinaryong tao.'],\n",
              " ['Wapello County Leaders met this evening to talk about the precautions put into place for COVID-19. They want the public to “Stay Calm.” @KTVOTV'],\n",
              " ['Mi ex tiene COVID-19 hace rato por todos los bichos que se come'],\n",
              " ['They know what’s coming. Nothing to do with #Covid_19. Look up, it’s celestial. Hidden history. '],\n",
              " ['While Warning Donors But Reassuring Public, GOP Intel Chair Unloaded Personal Stocks Before Covid-19 Smashed Markets | Common Dreams News '],\n",
              " ['It is important that people know what resources to use to get their information. With the panic COVID-19 has caused, a lot of bad actors have spread misinformation about the virus. Always read articles from trusted sources and not just the headline of the first one. #TEARtalk'],\n",
              " ['Want to know how you can help to support others locally during #COVID19? Check out this @GlblCtzn article now on how we can all make a difference!'],\n",
              " ['I work in a grocery store and I have yet to experience a symptom of COVID-19, looks likes helping is the solution.... so wack'],\n",
              " ['Sim temos gripes e outras doenças que matam. Agora imaginem o COVID-19 vem introduzi-se por cima no nível mais alto de cuidados e empurrar tudo para baixo. Qdo lá chegar começa-se a morrer.'],\n",
              " ['A reminder. #StaySafeStayHome #StayHome #StayAtHome #COVID19 #SocialDistancing'],\n",
              " ['Desafortunadamente, nuestros modelos EC predijeron correctamente el número de muertes para esta semana. Así que pensamos que el número de casos reales de #COVID19 en España es mucho mayor que el reportado: '],\n",
              " ['The Long Beach Health & Human Services Department share these easy to follow Illness Prevention Tips during coronavirus (COVID-19) '],\n",
              " ['Covid19って言うのか'],\n",
              " ['What is this job, which was supposed to support me where a traditional 9-5 couldn’t, doing to support me at the moment? Having lost numerous bookings due to COVID-19 just this week, all I can say is “not much.” /end'],\n",
              " ['how i be dodging covid-19 '],\n",
              " ['Predominando la hipertensión y la diabetes(que antes del COVID19 es una enfermedad que afecta bastante a la poblacion) '],\n",
              " ['Coronavirus Covid-19: síntomas, cómo prevenir su contagio y a qué teléfono llamar. Un artículo muy completo y científico. De obligada lectura : '],\n",
              " ['Hawaii 5- Actor Daniel Dae Kim says he tested positive for COVID-19 '],\n",
              " ['We’re in this together. Our Executive Director & Chair have a new message for CA’s arts & culture field as we face the #COVID19 #coronavirus public health crisis, including important updates on our operations, links &amp; resources: https://mailchi.mp/arts.ca.gov/please-read-message-to-the-field-from-cac-leadership-important-updates-included?e=3a6fc2e2d5 #ArtsCA #CaliforniaForAll'],\n",
              " ['Marcus Smart has tested positive for COVID-19. The report saying all Celtics tested negative was false. ——————————————————————————— Make sure to follow me on Instagram @BSC617 and bsc617 on twitter for up to date… https://www.instagram.com/p/B97z4rZFVEq/?igshid=1j4rz7hxbm7t5'],\n",
              " ['Your #BuffaloEveningNews: Join us as we recap the news of the day. First up: Erie County leaders have been frantic in their attempts to lay their hands on the material needed to conduct more Covid-19 tests. '],\n",
              " ['WHY IS VA DOING EVERYTHING BUT TESTING PATIENTS FOR COVID-19 LIKE HERE ARE 15 TESTS YOU NEED TO BE NEGATIVE FOR FIRST BEFORE WE WILL TEST YOU FOR CORONA'],\n",
              " ['All the COVID19 medical tests and their status: https://www.360dx.com/coronavirus-test-tracker-launched-covid-19-tests (h/t @AGoulburn)'],\n",
              " [\"See @NonprofitOregon's latest important COVID-19 updated - Just released! https://conta.cc/3a3AYsA\"],\n",
              " ['#COVID19 #pititas crecemos @chapicolla @pacenita_2020 @rieger_martin @NicoAdrian92 @AdriAeroshk2 @BauerWOD @helenroca6 @Andycita3A @Julio_Orellana7 @valeval01140086 @Roshiob @SuaVe_TeRNuRa @Dona_ymor @DanniCuentas @DukeParada @DjguerreroA @BOLIVIANATIONA1'],\n",
              " ['Happy Anniversary Philrootcrops!! So unfortunate to not be celebrating this year because of COVID19. But I hope they would still have the anniversary mass bahala nag wala ang uban didto.'],\n",
              " [\"I am ALL for it, but certain things need to be thought about... those players MUST be Quarantined for 2 weeks before, and 2 weeks after... WIDE DOG... Can you help to make sure this BIG 3 tournament doesn't create a BIG 3,000 new cases of COVID 19 Sir? \"],\n",
              " ['#Covid19: Está es la lista completa de municipios en #EdoMex https://cuestiondepolemica.com/covid19-esta-es-la-lista-completa-de-municipios-en-edomex'],\n",
              " ['Saskatoon Transit to suspend fares, change bus boarding in response to COVID-19 via @CTVNews @CTVSaskatoon #COVID19 #YXE #CoronaVirus #StoonTransit #Sask #SK #YXECC'],\n",
              " ['Covid-19: Des mesures à l’adresse des salariés et des entreprises https://bit.ly/3deCVV9 فيروس كورونا.. حزمة من التدابير لفائدة المأجورين والمقاولات https://bit.ly/2J1hWY2 #Covid_19 #mesures #salariés #entreprises'],\n",
              " ['We stand by Italy during these trying times. Share your Support for our Italian friends, They are our colleagues, friends and family. Cari amici, siamo con voi. #COVID19 #WeStandWithItaly'],\n",
              " ['#Covid_19 #assassin'],\n",
              " [\"My love for you eeh is unlimited. Even at this odd time of covid - 19 virus, you still allow me to touch &amp; Sleep with you any how, when others can't even shake me.... I love you loads my beautiful Mouka FOAM Evil minds what are they thinking ...\"],\n",
              " ['All COVID-19 information in BC can be found through this site: '],\n",
              " ['To me there are two takeaways from this story: 1) The NBA has been preparing for covid19 since January 2) There is a whole network of private testing resources (how players are getting tested) that should immediately nationalized. '],\n",
              " [\"@smritiirani use nirbhaya victims for COVID 19 (Carina Virus ) test shots on their will. ask once. Don't go waste their life waste. Use one buy one\"],\n",
              " ['I’ve drank every night this week bc fuck COVID19'],\n",
              " [\"Today's update on the COVID-19 response in BC: \"],\n",
              " ['We were all aware of the “freshman 15”, but don’t let the “Covid 19” sneak up on ya through this quarantine! '],\n",
              " ['If COVID-19 forces Planned Parenthood to be closed for two weeks, the virus will have SAVED more lives than it has taken.'],\n",
              " ['Cartoon: Catching COVID-19 to own the libs '],\n",
              " ['#NBC News reporter warns that China, who ‘helped’ contain COVID19, is now facing a grave threat from America and the Western World [video] SAYYY WHAAAATTTTT!!!! SMH... Another open display of why it is crucial to vote #Trump2020 #KAG2020 https://twitchy.com/sarahd-313035/2020/03/19/nbc-news-reporter-warns-that-china-who-helped-contain-covid19-is-now-facing-a-grave-threat-from-america-and-the-western-world-video/ via @twitchyteam'],\n",
              " ['#CadaFamiliaUnaEscuela,desde #Anzoátegui #MunicipioSimónRodríguez, estudiantes, familias, docentes. #JuntosPorLaPrevención contra el #Covid_19 siguiendo las Orientaciones Ministeriales #FelicidadesGabriel #quedateEnTuCasa @MPPEDUCACION @ZEAnzoategui @SalaAnzoategui @carcast02'],\n",
              " ['Ásia controla covid-19 e já quer futebol. Com Bolsonaro é só o começo de tudo camuflado '],\n",
              " ['X2 Dictadura Terremoto 85-27f Epidemia de cólera Piñera 1 y 2 Pandemia de covid19 (haciendo empeño)'],\n",
              " [\"I'm not exactly willing to go out there and expose myself to the COVID-19 in any public places because I have a sister who still has asthma. That's why I prefer to stay home and watch the Three Stooges shorts! LOL\"],\n",
              " ['Saying someone got COVID-19 dead worse than saying they got the Rona'],\n",
              " [\"No one is upset with Trump calling it Covid-19. What you're doing is called a 'strawman arguement'. It's a logically fallacious arguement' in which you invent a position for your opponents to tear it down. No one holds that position though.\"],\n",
              " ['No puede ser. Los que creen en la 4T, están muy mal. Yo soy médico, y claro que estamos empezando a ver resultados positivos para coronavirus Covid 19, en los hospitales. Mucho ánimo , y no le haga caso a esta gente, que en nada nos ayuda.'],\n",
              " ['New course taken on http://futurelearn.com on Covid19 The basis of this is how AIcan assist in the prevention of this deadly virus. #covid19 #FightCOVID19 #ai4ce'],\n",
              " ['Kanit Binmas Polsek Bawang Aiptu Edi Margianto Melaksanakan Sosialisasi Virus Corona Kanit Binmas Polsek Bawang Aiptu Edi Margianto melaksanakan kegiatan sosialisasi Pencegahan Covid-19 (Virus Corona) kepada masyarakat Desa yang ada diPuskesmas 1 Bawang, Kecamatan Bawang '],\n",
              " ['#NewProfilePic quarentena COVID-19 dia 3... Home office faz arrancar os cabelos... '],\n",
              " ['Conozco a una chica que trabaja en un restaurante elegante en la zona fancy de la ciudad (zona norte) mandaron a cerrar todo por el COVID-19, pero a ella, los demás meseros y cocineros los mandaron a otra sede. Aún más al norte, donde se encuentra la mayor parte de contagios.'],\n",
              " ['Şu anda İtalya’da ölü sayısı Çin’i geçti. En son 427 kişi daha ölünce Covid19’dan ölen kişi sayısı toplam 3. 405 kişi oldu. -Ciddiye almadılar -Sokağa çıktılar -Gazeteciler yalan/yanlış haberler yaptılar -Ellerini yıkamadılar -Gençler taşıyıcı oldu -Komplo uydurdular Öldüler!'],\n",
              " ['La vicepresidenta ejecutiva de la República Delcy Rodríguez recibió hoy #19Mar en el Aéreo Puerto Internacional de Maiquetia el primer cargamento de ayuda técnica desde China ante la emergencia sanitaria que ha producido el Covid-19 '],\n",
              " ['¿Sabían que con #ConectandoConLosQueHacenPaz no es necesario salir de la para conocer a personas extraordinarias que ya están construyendo paz? Hoy tenemos 3 nuevas historias en las cuentas de @FCompaz. Hagamos #CuarentenaTotal y evitemos que el COVID-19 se propague.'],\n",
              " ['Predviđena pomoć opštine za stare sugrađane koji žive sami http://www.malizvornik.info/?p=15718 #Mali_Zvornik #Podrinje #Србија #Serbia #SRB #VanrednoStanje #Covid19 #Corona'],\n",
              " [\"Get yer data here! We now know that 1 in 5 patients hospitalized for COVID-19 in the US were 20 - 44 years old. And 12% of ICU patients were 20 - 44... #COVID19: It's not just for old folks. https://www.cdc.gov/mmwr/volumes/69/wr/mm6912e2.htm?s_cid=mm6912e2_w via @CDCgov\"],\n",
              " ['News: Gov. Greg Abbott and state officials host town hall at 7 p.m. CT about COVID-19, answers questions from community through videos and tweets. More to come. @thedailytexan'],\n",
              " ['Ezra can you see if you can get any kind of answer to, \"are Hydroxychloroquine and Chloroquine being looked at for COVID-19 patient treatment\"?'],\n",
              " ['#NEW: Five more #COVID19 #CoronaVirus cases reported in Clark County. Now 74.'],\n",
              " ['Terima kasih Corona yang telah menunjukkan sifat asli manusia yang rakus, maruk, aji mumpung #COVID19 #COVID19indonesia'],\n",
              " ['#haiti #covid_19 https://www.instagram.com/p/B97z4LqhSP7/?igshid=1gmoqx4kjugdu'],\n",
              " ['#CadaFamiliaUnaEscuela,desde #Anzoátegui #MunicipioSimónRodríguez, estudiantes, familias, docentes. #JuntosPorLaPrevención contra el #Covid_19 siguiendo las Orientaciones Ministeriales educando desde el hogar #quedateEnTuCasa @MPPEDUCACION @ZEAnzoategui @SalaAnzoategui @carcast02'],\n",
              " ['When the boringlittlegirlsclub let us in on their plan to serve Calgarians in need, we weren’t surprised for even a second at the way Kira, Marie and team responded to our current COVID-19 crisis with a “How can we… https://www.instagram.com/p/B97oLuUJbpz/?igshid=wu0k8mz8mmi5'],\n",
              " ['#PARTE2 La guía definitiva presentada por perritos #LomitosEnCuarentena #PerritosEnCuarentena #QuedateEnCasa #CoronaVirus #COVID19 #MascotasEnCuarentena #MascotasGraciosas #Mascotas #MemesCoronaVirus'],\n",
              " ['I just signed a @commoncause petition: Take The Pledge: I will protect democracy during the COVID-19 crisis. Sign here: '],\n",
              " ['check the daily podcast @c_drosten #charitevirology on #coronavirus #covid19 #chloroquine use of #facemasks and #diagnosis (in German)'],\n",
              " ['COVID-19— CONFIDENCE David says Psalm 27:13-14 I remain confident of this: I will see the goodness of the LORD in the land of the living. Wait for the LORD; be strong and take heart and wait for the LORD. HERE IN… https://www.instagram.com/p/B97zqVwFWAC/?igshid=1r8t1piam1b1u'],\n",
              " ['And just like that, \"stay safe\" became the new \"have a nice day\" #COVID19'],\n",
              " ['So let me get this straight. The top 1% is getting COVID 19 tests whenever their little hearts desire but every other person is getting nothing. A woman had to hide her symptoms and fly to FUCKING CHINA so she could get tested because she was neglected. Idk what to think anymore.'],\n",
              " ['This is gonna be hard @robertbenzie . We will be okay but for now we need to change the way we live our lives, just as you would in wartime. This is wartime. It sucks. #Covid19'],\n",
              " ['The Home Lockdown Survival Guide - Staying Healthy, Sane, & Solvent During The COVID-19 Crisis | Zero Hedge '],\n",
              " ['Hashtag KitaJagaKita ni once politician guna, terus jadi null and void for me. Jangan ingat aku lupa korang boleh sibuk dengan nakkan kuasa in the middle of this Covid-19 crisis itu hari.'],\n",
              " ['L\\'émergence du Covid-19 se double d\\'une autre épidémie, celles des fake news. Une plainte institutionnelle au nom de l’Institut et de ses salariés sera déposée. \"En parallèle, l\\'institut accompagnera chacun des salariés concernés pour leur propre dépôt de plainte individuel\". '],\n",
              " ['We need a plan for renters during #COVID-19. Sign to tell @JustinTrudeau: freeze rent, evictions and utility shut-offs.'],\n",
              " ['Hola queridos Cepeda y Fonseca necesitamos su poder de convocatoria para s contar con disponibilidad de miles de pruebas para diagnosticar asintomáticos de Covid-19 de lo contrario vamos a estar en pocos días como España e Italia están hoy'],\n",
              " ['There needs to be a test to find out if you’ve had #COVID19, so many people could be walking around not knowing they’ve already had it. #coronavirus'],\n",
              " ['a china finalmente divulgou imagens do novo covid-19!! é assustador '],\n",
              " ['Medidas ante el Covid-19, funcionarán si los ciudadanos se quedan en casa: Salud http://lavozdesanluis.com.mx/medidas-ante-el-covid-19-funcionaran-si-los-ciudadanos-se-quedan-en-casa-salud/'],\n",
              " ['American Society of Anesthesiologists @ASALifeline COVID-19 Town Hall Webinar is about to start, register now at http://bit.ly/2QtKL3i'],\n",
              " ['ards, given #COVID19 also'],\n",
              " ['Never in a million years thought I would agree with anything @NYCMayor said, yet here I am in total agreement. This really is a crisis. #Covid_19'],\n",
              " ['Town of Yucca Valley- Press ReleaseLocal COVID-19 Update- Town offices open via telephone, website, and by appointment only https://conta.cc/2xV8gMv'],\n",
              " ['Just wrote a grant proposal for which 50% of references were published in the last 4 weeks, some in the 4 days prior, in a field that didn’t exist 4 months ago. Astonishing. #COVID19'],\n",
              " ['Lakers test positive for covid 19'],\n",
              " ['Over the last 16 days, the number of confirmed covid-19 cases has increased by a factor of 100. The growth is nearly strait on a log scale, so it follows a form x^15 = 100 which is solved by about x = 1.35, that is, the number of cases increases by about 35% each day.'],\n",
              " ['Não convide 20 pessoas pro seu aniversário, COVID-19'],\n",
              " ['I’ve been saying this. I remember I was soooo ill. Never had a flu like it. Couldn’t breathe properly, had a fever, almost coughed up a lung and sneezed out my brain and every movement was torture! A few people in my block had the same illness. #covid19 #CoronaVirus'],\n",
              " ['#JuntosEnLaPrevención #DespliegueNacionalClap AUNQUE SUENE CRUDO pareciera que algunos gobiernos del mundo hacen caso omiso al covid-19 para exterminar poblaciones pobres. OJALÁ SOLO SEA UN MAL PENSAMIENTO y que comprendan que es algo serio que atenta contra la vida.'],\n",
              " ['Here’s something you can do right now to help stop the spread of #COVID19 in the United States and support those affected. Donate here to help the @CDCFound fight coronavirus:'],\n",
              " ['#COVID19 Y nos gobierna ALVERSO '],\n",
              " [\"Well if they die from covid19 then yeah that would be right. Let's hope none of the kids continuing to go to scholl do \"],\n",
              " ['Te rifas compa, nomas que pase el desmadre del puto #Covid_19 y llevare mi nave.'],\n",
              " ['Medidas ante el Covid-19, funcionarán si los ciudadanos se quedan en casa: Salud http://lavozdesanluis.com.mx/medidas-ante-el-covid-19-funcionaran-si-los-ciudadanos-se-quedan-en-casa-salud/'],\n",
              " [\"You're crying over toilet paper and hand sanitizer. Wait until there is no water. Then you'll know what suffering really is. #ChangeIsNow #COVID19\"],\n",
              " ['Y las banca de apuesta están cerradas, tengo prueba de que siguen funcionando , un gran foco de contagio del covid 19 .'],\n",
              " ['Para evitar transmissão do Corona vírus, evite fazer festas com mais de 20 pessoas. APENAS COVID-19'],\n",
              " ['Watch doctor’s urgent plea after Trump’s remark about masks https://youtu.be/CNZY9QnXefg via @YouTube #FactsMatter #Truth #Coronavirus #COVID19 #COVID-19 #CoronavirusUSA'],\n",
              " ['A message from our ownership team. #Covid19 #RealEstate'],\n",
              " ['Tkachuk out here looking to sleep foot Covid-19 '],\n",
              " ['I’m gonna show my kids #IAmLegend and tell them it’s a documentary about Covid-19. Then ima look them in the eyes and say “I survived that.” '],\n",
              " ['By winning do you mean no one dies from Covid-19 there are plenty of PPE’s and defibrillators for our hard working physicians and Nurses, test kits, and everyone can pay there bills and have plenty of food and water or you’ve found a cure?'],\n",
              " [\"Sorry you have to do that. I'm waiting for first diags of Covid19 elbow, tbh. Went to Trader Joe's today. Cashier told me she was gonna sneeze and apologized. She was an allergy sufferer. I told her not to worry about me. I'm also itchy af so I feel you both.\"],\n",
              " ['Total Cost of Her COVID-19 Treatment: $34,927.43 '],\n",
              " ['The shocking centre of the COVID-19 crisis: '],\n",
              " ['Help prevent COVID 19'],\n",
              " ['Argentina #COVID19 Debió haber cerrado todas las fronteras hace 1 mes. Debió poner en cuarentena forzosa a todo ciudadano llegado del extranjero, con custodia policial Hoy pasó la barrera de los 100 +30%. Es el % con el que se espiralizan los contagios Ahora #ToleranciaCero'],\n",
              " ['Only one way to fight through this pandemic lads .. the return of Bike Mania #coronavirus #Covid_19 '],\n",
              " ['#TogetherWeRise #COVID19 #StayHome #heroes'],\n",
              " ['Absolutely stupid. Probably negatively correlated with COVID-19 damage. '],\n",
              " ['I wonder if the Carlsberg factory in Selangor that many people wanted closed previously can help by producing sanitizer? #COVID19'],\n",
              " ['Hati2 people.. Virus corona ini sadiss. #indonesia #covid_19 #wuhan #banten #surabaya #dkijakarta #britpop #music #lockdown #krismon #workout #work #industrial #karaoke #virus #jawa #kalimantan #sumatera… https://www.instagram.com/p/B97z3kal8S7/?igshid=5ratuijcksg8'],\n",
              " ['If every nba player has Covid-19 can we just let them all play again?'],\n",
              " ['7. Avoid going to hospitals for a routine checkup. Call family doctor. 8. Elective surgeries should be postponed. 9. COVID 19 Economic Task force has been set up by the government to reduce economic issues caused by this pandemic.@PMOIndia #IndiaFightsCorona'],\n",
              " ['Feels a little early in quarantine to be cutting my own bangs but here we go #covid19'],\n",
              " ['#covid19 #librairies @BrunoLeMaire - 19 mars : \"Pong !\"'],\n",
              " ['A 48 horas del cierre de nuestras fronteras, no reportamos ninguna caso confirmado de covid 19.#Micronations #micronationalCommunity #Micronation #micronations'],\n",
              " ['Los efectos colaterales del covid-19 son que haya cuarentena, ver series y encontrar al amor de tu vida B U E '],\n",
              " ['Just saw a headline: “What becomes of a live #music industry when live music is banned?” Live music is not banned! Redefine “live”! Get online, get on YouTube, start a Patreon account, teach music online, hold online concerts ... Musicians we need you more than ever! #covid19'],\n",
              " ['Lol, I was trying to find what I wrote yesterday circle meaning no then covid19. Before the last rain I drew flowers and lios. That extended later was hard to get up, not moving it for a few days.'],\n",
              " ['“I know we will make it through this crisis because I see how our community is coming together right now to help each other and look out for each other.” - Mayor @Kathryn_McGarry on COVID-19. Watch the full statement '],\n",
              " ['Working remotely has been a global trend for the past few years and recently, the outbreak of COVID-19 has made it essential. In our latest post, our CTO points out some of the benefits of #remotework: #workfromhome #stayathome'],\n",
              " ['Que ocultarían el asunto siendo los últimos en reportar casos y después... imposible contener la pandemia'],\n",
              " ['Covid 19 : Co_corona vi_virus d_disis ( corona ) 19 Ada yang tau 19nya itu apa... ? '],\n",
              " ['Want to know how you can help to support others locally during #COVID19? Check out this @GlblCtzn article now on how we can all make a difference!'],\n",
              " ['El confinamiento para frenar el #COVID-19 brinda una oportunidad excelente para ver de un tirón aquellas series con pocos capítulos'],\n",
              " ['Watch this 1971 classic. There are similarities to our COVID19. '],\n",
              " [\"I'm taking a #covid19 work contingency planning break. I will be watching TV, eating foods I shouldn't be and cuddling with my dog.\"],\n",
              " ['Paciente de COVID-19: “Esto no se lo deseo a nadie” Luis Daniel padece de cáncer, leucemia y ahora coronavirus Pide a la gente que no salga de su casa para evitar contagios '],\n",
              " [\"Live Now: COVID-19 and Canada's Economic Response Plan \"],\n",
              " ['Less police are outside since covid 19'],\n",
              " ['– le financement de la recherche sur les traitements contre Covid-19 et le soutien à la recherche sur les virus et les épidémies. (vous pouvez choisir où ira votre don, si vous avez une préférence) @CollectInterHop @InterUrg @ISNItwit #OnApplaudit #HopitalPublic'],\n",
              " ['Cómo proteger tu salud mental en caso de aislamiento por el #COVID19: Presta atención a tus emociones Dedica tiempo a actividades relajantes Cuida tu alimentación y duerme lo suficiente Más consejos de la @opsoms: http://www.who.int/es/emergencies/diseases/novel-coronavirus-2019/advice-for-public '],\n",
              " ['#2019nCoV #COVID19 #武漢病毒 #TAIWAN 比對從3/18到3/19的各縣市新增量： 台北市+1 台中市+1 台南市+1 高雄市+1 新竹市+1 新北市+3'],\n",
              " ['#covid19 #librairies @Olivennes - 16 mars : \"Ping !\" …'],\n",
              " [\"Les soignants portent des masques parce que 1) Ils ont de fortes de chances de tomber malade,donc de transmettre COVID19 2) Ils peuvent aggraver le cas de patients déjà atteints en apportant des bactéries et autres microbes (même raison qui fait qu'ils en portent en temps normal)\"],\n",
              " [\"Marcus Smart Has COVID-19: Smart says he's 'okay' and feeling 'fine' after testing positive for the coronavirus (@smart_MS3)\"],\n",
              " ['I get you’re doing a bit but the wet markets are a problem & likely responsible for COVID-19 &amp; SARS. MERS is from Egypt so that guy’s...a politician. Snake is likely not a carrier, but, good job. I do understand that a Texan will claim pride on anything but...eating shit?'],\n",
              " ['Lack of tests but more hospital beds coming as region fights Covid-19 '],\n",
              " ['minha empresa cobrando os funcionarios // minha empresa quando tem um caso suspeito de CoVid-19 '],\n",
              " ['https://youtu.be/Fpo-vAE5Owc #QuedateEnCasa #PSOE #PsoeResponsable #PodemosResponsable #CuarentenaObligatoria #Covid_19'],\n",
              " ['Changes Surrounding COVID-19 - https://mailchi.mp/4a1b4e31fa86/endofyearletter-3084269'],\n",
              " ['#EmergenciaNacional | Sala de lo Constitucional deniega medidas cautelares y mantiene Ley de Restricción Temporal de Derechos Constitucionales en el marco de la pandemia COVID-19 Vía @CorteSupremaSV'],\n",
              " ['They need to test for adverse effects on COVID-19 patients specifically, but yes, we should do whatever we can.'],\n",
              " [\"J'ai 10 masques de protection encore emballé à donner sur Cosnes-et-Romain(54). Je suis en télétravail donc pas le besoin. C'est peu mais si cela peut aider un(e) ou des #AVS , #AS ou infirmièr(e)s etc ... #coronavirus #cosnesetromain #COVID19\"],\n",
              " ['en España decían lo mismo y miranos ahora... con peor evolución que China. Miedo me dan estas semanas que vienen'],\n",
              " ['Manuel Rojas en Twitter: \"Zona Franca mantiene a sus empleados trabajando violando la cuarentena del gobierno. En este país nadie respeta lo que diga Danilo Medina. #COVID19 #CoronavirusRD \" / Twitter https://mobile.twitter.com/manuelrojasrod/status/1240767340985409539'],\n",
              " ['Considering #covid19 came from bats and was transferred to humans a better name is the Bat-Man virus.'],\n",
              " ['Holy shit! Intel chairman, @SenatorBurr got private briefings about #Covid_19 in FEB and then sold off $1.6 million in stocks a week before it fell. Even warned his buddies how bad it was gonna be. Remind you he told the public not to worry. THEY KNEW! THEY FREAKING KNEW! '],\n",
              " ['Marcus Smart de los Boston Celtics positivo a COVID-19 '],\n",
              " ['Shout out to everyone who figured out how to start academically productive in a time of #COVID19 and virtual meeting predatory. Drop tips here on how you’re doing it. #medtwitter #AcademicTwitter #GetMePPE'],\n",
              " ['IJS: 1 reason Y #Trump refused #WHO Director-General Dr. Ghebreyesus #COVID19 test kits bc of his authority &amp; ethnicity like President @BarackObama which #GlobalLeaders followed #POTUS44 #pandemic plan &amp; said Yes 2 kits. #Veterans #MSNBC #CNN @MalcolmNance @SpeakerPelosi'],\n",
              " ['Q idiotez de este hombre la gente sin tener q comer y el regalando 50 msj de claro como si con eso van a disminuir el covid19 de verdad q para idiota noce estudia'],\n",
              " ['Seguire haciendo ejercicio para esperar al COVID 19 en mi casita. Al final nada es eterno.'],\n",
              " ['I am sorry to hear that happened to you but this shows the need for Education about COVID 19. Ethiopian Government must do that? We are trying to inform each other.'],\n",
              " ['Navigating the Job Search during COVID-19 https://indeed.zoom.us/webinar/register/6015840392574/WN_hFCmt_VORO2XdokhoPsQtQ @ArlingtonEmploymentCt'],\n",
              " ['Estas compañías se unen a General Motors (GM) y Ford en la suspensión temporal por Covid-19. '],\n",
              " ['No hay tratamientos privados para el COVID-19, si se enferma de COVID-19 sí o sí debe ir al sistema público. Yo le hablo de hechos pero usted me contesta con opiniones, ya vimos que no lo haré cambiar de opinión.'],\n",
              " ['Ángela Expósito, detenida por cuidar a la mascota de Óscar Pérez y a los dos perros de un perseguido político. Corre peligro ante la pandemia de #COVID19, debido a las condiciones de las cárceles en Venezuela. Exigimos #MedidasHumanitariasYA #Libérenlas'],\n",
              " ['Circula no WhatsApp que a plataforma Netflix decidiu liberar o acesso a filmes e séries do seu catálogo pelo “período de isolamento das pessoas”, que estão em casa para se prevenir contra contaminações pela Covid-19,… https://www.instagram.com/p/B97z3HCHJfN/?igshid=fvyl1up9hzi8'],\n",
              " ['Has anyone reached out to Dustin Hoffman on this Covid19 situation? Him and Cuba Gooding Jr can find the host and end this ASAP! Just an idea.'],\n",
              " [\"How South Korea, a nation 15% of US pop, is lapping us in #COVID19 testing. Both identified nations' 1st cases on same day. Tests run in S. Korea: 290k, US: 60k Dr. Schaffner @VUHealthPol comments on US public health failure to adapt in an emergency\"],\n",
              " ['If COVID-19 had a face, it would be Alex’s.'],\n",
              " ['Porque o COVID-19 NÃO CHEGOU A RUSSIA ?'],\n",
              " ['CDC Reportedly Sidelined By “Chaos” Surrounding Trump’s COVID-19 Task Force Briefings, Impairing Their Ability To Properly Inform The Public #CoronaVirusUpdate #PPEshortage #WhereIsDr.Fauci'],\n",
              " ['Covid 19 u gençler kolay atlatıyor diyorlar bu gençler neleri atlatıyor covid 19 ne amk demiyorlar '],\n",
              " [\"En Équateur on empêche qu'un avion en provenance de l'Espagne atterrisse, soupconnant un passager atteint du #Covid_19\"],\n",
              " ['No sé si es por la paranoia de la pandemia, pero vi muy desmejorado al curita del minuto de Dios #Covid_19 #YoMeQuedoEnCasa #COVID2019ec'],\n",
              " [\"I'm interested in hearing about best practices for talking about covid-19 to friends and relatives in various stages of denial.\"],\n",
              " [\"The reason Trump's response is so widely panned is because, in order to make this work NOW, we have to test *everyone* in the United States. Lol... right? #COVID19 #coronavirus\"],\n",
              " ['Gov. Andy Beshear announces actions Kentucky is taking to prevent the spread of COVID-19 '],\n",
              " ['The COVID-19 from China Gotcha'],\n",
              " ['THIS IS FUCKING EVIL! ICE impersonated doctors! #Covid_19 '],\n",
              " ['The only mystery is how Labour is on 30%.'],\n",
              " ['Sacan de su residencia a la diseñadora de moda dominicana Jenny Polanco, donde guardaba cuarentena al dar positivo a COVID 19. Si quieres saber más pulsa el enlace que aparece en la descripción de nuestro… https://www.instagram.com/p/B97z0_oFraK/?igshid=17o05lcnsozed'],\n",
              " ['Los investigadores buscan medicamentos viejos para un posible tratamiento para el coronavirus: Cloroquina, hidroxicloroquina y remdesivir sera el medicamento para el coronavirus COVID-19 https://www.saludvidasana.com/2020/03/cloroquina-hidroxicloroquina-y-remdesivir-sera-el-medicamento-para-el-coronavirus-covid-19.html #coronavirus #tratamiento #salud'],\n",
              " ['Gas price is record low in #Stillwater #COVID19 #CoronaCrisis #GasBuddy'],\n",
              " ['Fase 4 de covid19 desplazándose la fábrica de contagiados @GobiernodeChile valen '],\n",
              " ['What we consider going back to normal from the COVID-19 virus won’t ever be the case. Our world will change forever whether you agree or not.'],\n",
              " ['Coronavirus Disease 2019 (COVID-19) - Environmental Cleaning and Disinfection Recommendations https://www.cdc.gov/coronavirus/2019-ncov/prepare/cleaning-disinfection.html via @CDCgov'],\n",
              " ['Durante o COVID-19. ...O parente vai embora de ambulância, entra no hospital e ninguém mais pode vê-lo porque não se pode nem visitar. Depois, um telefonema avisa que a pessoa está morta, que um caixão fechado está liberado e que poderá ser enterrado sem funeral...'],\n",
              " ['El 11S cambió la forma de pensar al mundo , ¿ Lo harás nuevo el #Covid_19 ?'],\n",
              " ['Hi, to help stop the spread of COVID-19, trams undergo an additional deep clean before each service, which includes sanitising high touch areas like next stop buttons, handrails and grab straps. (1/3)'],\n",
              " ['It Is A Scam, COVID-19 Is Just A Malaria Lungs Flu – Slimcase https://www.gbajumobase.com.ng/it-is-a-scam-covid-19-is-just-a-malaria-lungs-flu-slimcase/'],\n",
              " ['De enves de hacer grupos de wpp para compartir memes y estupideces del covid-19 deberían hacerlos para crear consiencia y que la gente pueda entender que se tienen que quedar en sus casas, esto no es una joda'],\n",
              " ['Estamos sumando acciones urgentes con reunión ante autoridades de seguridad pública, protección civil, bomberos, cruz roja y equipos de rescate, con medidas de prevención ante #COVID19 Acordamos aplicar toque de queda y filtro seguridad 24 horas del día #QuédateEnCasa'],\n",
              " ['Good news update: 4 of our #COVID-19 patients have recovered! We are all in this together. Remember to wash your hands, stay home if you’re sick, clean and disinfect. and be kind to one another. We are a community and we will get through this together. #FortBendStrong'],\n",
              " ['@FiscaliaCol En el caso de Santa Marta en dónde o por dónde se deben dirigir las denuncias por fraude en el caso de las empresas que están aprovechando la contingencia del covid19 para despedir con pruebas falsas. Gracias.'],\n",
              " [\"Today's COVID-19 update from the Director-General of Health is about to start. Livestream here: \"],\n",
              " ['#Covid_19. Thursday, 03/19/20. The population of Salvador (Brazil) applauding Doctors and Nurses who are fighting against the coronavirus. '],\n",
              " ['@exagdl que pedo con su comercial del coronavirus y de que no se acerquen a animales, ni a perros y gatos callejeros etc, ignorancia nivel Dios, los animales no transmiten Covid19!!! '],\n",
              " ['...und so wird die Menschheit tatsächlich in einer Amtsperiode mit #Trump und #Corona konfrontiert. #Coronakrise #Covid_19'],\n",
              " ['Everyone lookout and stay safe Stand strong and dont shake Talk to family call your friends Create more awareness #COVID19 is no sham just stay clear and aware not scared. '],\n",
              " ['Idiotas irresponsables!! Cierren todo!! Cuarentena total. Pagaran por sus malas decisiones. Autoridades prohíben funcionamiento de discotecas en la Región Metropolitana y limitan cantidad de personas en cines y restoranes por Covid-19 https://www.latercera.com/nacional/noticia/autoridades-prohiben-funcionamiento-de-discotecas-en-la-region-metropolitana-y-limitan-cantidad-de-personas-en-cines-y-restoranes-por-covid-19/APEPIQSFPBBVXISCKJ4B5Z4PEE/ vía @latercera'],\n",
              " ['Covid-19 stopping me from my most productive, flyest most explorative summer I ever planned'],\n",
              " ['Yes and hopefully you are making sure to help the private sector especially this is all@your fault as Soviet deals with COVID-19'],\n",
              " ['Update from the Southwest PGA on COVID-19. @PGA #southwestpga #covid_19 '],\n",
              " ['FDA to Study Hydroxychloroquine for COVID-19 #medtwitter #COVIDー19 #CoronaPandemic'],\n",
              " ['The white people son los que ahorita están bien crazys apañando hasta las pruebas de Covid-19 sin tener síntomas '],\n",
              " ['“What really scares me is there is going to come a time when I show up to work and there will not be gloves in my size or there won’t be any masks,” said a nurse who works at a teaching hospital on a floor recently converted to handle COVID-19 patients '],\n",
              " ['Young people getting sick from coronavirus, according to COVID-19 data from Italy, France younger adults #coronavirus'],\n",
              " ['Reported confirmed COVID-19 #NBA cases: 14 Nets: 4 76ers: 3 (within the organization; unknown if players) Jazz: 2 Lakers: 2 (not all players have been tested) Nuggets: 1 (organization) Pistons: 1 Celtics: 1 Raptors, Nuggets all have tested negative.'],\n",
              " ['#ChineseVirus Not Corona Or Covid19 '],\n",
              " [\"In the wake of this outbreak #COVID19 pandemic I entreat everyone to observe social distance and those at risk not to forget their personal protection equipments. Don't get infected #StaySafe @Fmohnigeria @YAMghana @AngelfmAccra @JAlbusDumbledor @UNFPAGHANA @UNDPGhana @Youthgh\"],\n",
              " ['Por que os parlamentares não aprovam o remanejamento dos recursos do Fundo Eleitoral para ajudar nas ações relacionadas decorrentes do COVID-19? #JN'],\n",
              " ['If you notice any retailers over pricing since covid -19 report by calling on 020 3738 6000 or email general.enquiries@cma.gov.uk This is for THE SCUM WHO ARE OVER PRICING FOR STUFF...... THEY WANNA BE A MUNT 4 OVER CHARGE THEN CALL THIS AND SORT IT OUT THAT WAY...... THE END'],\n",
              " [\"Learn about the National Forest Foundation's response to the COVID-19 pandemic: \"],\n",
              " [\"It's different, Tim. There are a lot of people out there with illnesses different to COVID-19 that use football as a release. You could argue, depression and anxiety kills more than the virus. Sport is important, as is the measures the government are putting in place.\"],\n",
              " ['Convencí a mi madre (79 años) de que se quede en casa para escribir su biografía, se entusiasmó mucho. Dice que va a tejer un rato en lo que se le ocurre cómo iniciar #YoMeQuedoEnCasa #COVID19'],\n",
              " [\"Man. Our Prime Minister Jacinda Ardern has taken us through a Terrorist Attack, a Volcanic Eruption...& now a Worldwide Pandemic. That's pretty damn amazing. #Covid_19 \"],\n",
              " [' 28 clubes juegan el mismo partido. TODOS JUNTOS LE VAMOS A GANAR AL COVID-19 . . #CuidarteEsCuidarnos #YoMeQuedoEnCasa . . Foto: laligaargentinaok La Liga Argentina de Básquet https://www.instagram.com/p/B97zrEcF9JT/?igshid=1ll5c5ub9niwu'],\n",
              " ['CÓMO ACTUAR ANTE UN #ERTE (EXPEDIENTE DE REGULACIÓN DE EMPLEO TEMPORAL). #Casabermeja #Covid_19 #coronavirus'],\n",
              " ['Sigamos las recomendaciones para evitar la propagación del #Coronavirus tomando en cuenta las medidas de higiene pertinentes. #COVID19 #UsoDeGel'],\n",
              " ['You’re hotter than a Covid-19 fever.'],\n",
              " ['Next Livestream 3/20 at 8:00am CT : \"How to MESSAGE people on LinkedIn to get your next JOB or CLIENT.\" We\\'ll chat about how to craft a message that gets read, replied to ... and will lead you to your next job or client. #COVID19 Livestream series: Why…']]"
            ]
          },
          "metadata": {
            "tags": []
          },
          "execution_count": 20
        }
      ]
    },
    {
      "cell_type": "code",
      "metadata": {
        "id": "l9AkgZbmZhbe",
        "colab_type": "code",
        "colab": {}
      },
      "source": [
        "from nltk.corpus import stopwords"
      ],
      "execution_count": null,
      "outputs": []
    },
    {
      "cell_type": "code",
      "metadata": {
        "id": "vaZsQWoyaQZ_",
        "colab_type": "code",
        "colab": {
          "base_uri": "https://localhost:8080/",
          "height": 68
        },
        "outputId": "911c3ed1-0ff8-43ea-c9ad-266a39f37917"
      },
      "source": [
        "import nltk\n",
        "nltk.download('stopwords')"
      ],
      "execution_count": null,
      "outputs": [
        {
          "output_type": "stream",
          "text": [
            "[nltk_data] Downloading package stopwords to /root/nltk_data...\n",
            "[nltk_data]   Unzipping corpora/stopwords.zip.\n"
          ],
          "name": "stdout"
        },
        {
          "output_type": "execute_result",
          "data": {
            "text/plain": [
              "True"
            ]
          },
          "metadata": {
            "tags": []
          },
          "execution_count": 24
        }
      ]
    },
    {
      "cell_type": "code",
      "metadata": {
        "id": "VNOe821taHmL",
        "colab_type": "code",
        "colab": {
          "base_uri": "https://localhost:8080/",
          "height": 1000
        },
        "outputId": "4f4df7ec-9ded-4150-93c8-379911c814f4"
      },
      "source": [
        "stopwords.words('english')"
      ],
      "execution_count": null,
      "outputs": [
        {
          "output_type": "execute_result",
          "data": {
            "text/plain": [
              "['i',\n",
              " 'me',\n",
              " 'my',\n",
              " 'myself',\n",
              " 'we',\n",
              " 'our',\n",
              " 'ours',\n",
              " 'ourselves',\n",
              " 'you',\n",
              " \"you're\",\n",
              " \"you've\",\n",
              " \"you'll\",\n",
              " \"you'd\",\n",
              " 'your',\n",
              " 'yours',\n",
              " 'yourself',\n",
              " 'yourselves',\n",
              " 'he',\n",
              " 'him',\n",
              " 'his',\n",
              " 'himself',\n",
              " 'she',\n",
              " \"she's\",\n",
              " 'her',\n",
              " 'hers',\n",
              " 'herself',\n",
              " 'it',\n",
              " \"it's\",\n",
              " 'its',\n",
              " 'itself',\n",
              " 'they',\n",
              " 'them',\n",
              " 'their',\n",
              " 'theirs',\n",
              " 'themselves',\n",
              " 'what',\n",
              " 'which',\n",
              " 'who',\n",
              " 'whom',\n",
              " 'this',\n",
              " 'that',\n",
              " \"that'll\",\n",
              " 'these',\n",
              " 'those',\n",
              " 'am',\n",
              " 'is',\n",
              " 'are',\n",
              " 'was',\n",
              " 'were',\n",
              " 'be',\n",
              " 'been',\n",
              " 'being',\n",
              " 'have',\n",
              " 'has',\n",
              " 'had',\n",
              " 'having',\n",
              " 'do',\n",
              " 'does',\n",
              " 'did',\n",
              " 'doing',\n",
              " 'a',\n",
              " 'an',\n",
              " 'the',\n",
              " 'and',\n",
              " 'but',\n",
              " 'if',\n",
              " 'or',\n",
              " 'because',\n",
              " 'as',\n",
              " 'until',\n",
              " 'while',\n",
              " 'of',\n",
              " 'at',\n",
              " 'by',\n",
              " 'for',\n",
              " 'with',\n",
              " 'about',\n",
              " 'against',\n",
              " 'between',\n",
              " 'into',\n",
              " 'through',\n",
              " 'during',\n",
              " 'before',\n",
              " 'after',\n",
              " 'above',\n",
              " 'below',\n",
              " 'to',\n",
              " 'from',\n",
              " 'up',\n",
              " 'down',\n",
              " 'in',\n",
              " 'out',\n",
              " 'on',\n",
              " 'off',\n",
              " 'over',\n",
              " 'under',\n",
              " 'again',\n",
              " 'further',\n",
              " 'then',\n",
              " 'once',\n",
              " 'here',\n",
              " 'there',\n",
              " 'when',\n",
              " 'where',\n",
              " 'why',\n",
              " 'how',\n",
              " 'all',\n",
              " 'any',\n",
              " 'both',\n",
              " 'each',\n",
              " 'few',\n",
              " 'more',\n",
              " 'most',\n",
              " 'other',\n",
              " 'some',\n",
              " 'such',\n",
              " 'no',\n",
              " 'nor',\n",
              " 'not',\n",
              " 'only',\n",
              " 'own',\n",
              " 'same',\n",
              " 'so',\n",
              " 'than',\n",
              " 'too',\n",
              " 'very',\n",
              " 's',\n",
              " 't',\n",
              " 'can',\n",
              " 'will',\n",
              " 'just',\n",
              " 'don',\n",
              " \"don't\",\n",
              " 'should',\n",
              " \"should've\",\n",
              " 'now',\n",
              " 'd',\n",
              " 'll',\n",
              " 'm',\n",
              " 'o',\n",
              " 're',\n",
              " 've',\n",
              " 'y',\n",
              " 'ain',\n",
              " 'aren',\n",
              " \"aren't\",\n",
              " 'couldn',\n",
              " \"couldn't\",\n",
              " 'didn',\n",
              " \"didn't\",\n",
              " 'doesn',\n",
              " \"doesn't\",\n",
              " 'hadn',\n",
              " \"hadn't\",\n",
              " 'hasn',\n",
              " \"hasn't\",\n",
              " 'haven',\n",
              " \"haven't\",\n",
              " 'isn',\n",
              " \"isn't\",\n",
              " 'ma',\n",
              " 'mightn',\n",
              " \"mightn't\",\n",
              " 'mustn',\n",
              " \"mustn't\",\n",
              " 'needn',\n",
              " \"needn't\",\n",
              " 'shan',\n",
              " \"shan't\",\n",
              " 'shouldn',\n",
              " \"shouldn't\",\n",
              " 'wasn',\n",
              " \"wasn't\",\n",
              " 'weren',\n",
              " \"weren't\",\n",
              " 'won',\n",
              " \"won't\",\n",
              " 'wouldn',\n",
              " \"wouldn't\"]"
            ]
          },
          "metadata": {
            "tags": []
          },
          "execution_count": 30
        }
      ]
    },
    {
      "cell_type": "code",
      "metadata": {
        "id": "E5cfK26deMeq",
        "colab_type": "code",
        "colab": {}
      },
      "source": [
        "stopwords=['i',\n",
        " 'me',\n",
        " 'my',\n",
        " 'myself',\n",
        " 'we',\n",
        " 'our',\n",
        " 'ours',\n",
        " 'ourselves',\n",
        " 'you',\n",
        " \"you're\",\n",
        " \"you've\",\n",
        " \"you'll\",\n",
        " \"you'd\",\n",
        " 'your',\n",
        " 'yours',\n",
        " 'yourself',\n",
        " 'yourselves',\n",
        " 'he',\n",
        " 'him',\n",
        " 'his',\n",
        " 'himself',\n",
        " 'she',\n",
        " \"she's\",\n",
        " 'her',\n",
        " 'hers',\n",
        " 'herself',\n",
        " 'it',\n",
        " \"it's\",\n",
        " 'its',\n",
        " 'itself',\n",
        " 'they',\n",
        " 'them',\n",
        " 'their',\n",
        " 'theirs',\n",
        " 'themselves',\n",
        " 'what',\n",
        " 'which',\n",
        " 'who',\n",
        " 'whom',\n",
        " 'this',\n",
        " 'that',\n",
        " \"that'll\",\n",
        " 'these',\n",
        " 'those',\n",
        " 'am',\n",
        " 'is',\n",
        " 'are',\n",
        " 'was',\n",
        " 'were',\n",
        " 'be',\n",
        " 'been',\n",
        " 'being',\n",
        " 'have',\n",
        " 'has',\n",
        " 'had',\n",
        " 'having',\n",
        " 'do',\n",
        " 'does',\n",
        " 'did',\n",
        " 'doing',\n",
        " 'a',\n",
        " 'an',\n",
        " 'the',\n",
        " 'and',\n",
        " 'but',\n",
        " 'if',\n",
        " 'or',\n",
        " 'because',\n",
        " 'as',\n",
        " 'until',\n",
        " 'while',\n",
        " 'of',\n",
        " 'at',\n",
        " 'by',\n",
        " 'for',\n",
        " 'with',\n",
        " 'about',\n",
        " 'against',\n",
        " 'between',\n",
        " 'into',\n",
        " 'through',\n",
        " 'during',\n",
        " 'before',\n",
        " 'after',\n",
        " 'above',\n",
        " 'below',\n",
        " 'to',\n",
        " 'from',\n",
        " 'up',\n",
        " 'down',\n",
        " 'in',\n",
        " 'out',\n",
        " 'on',\n",
        " 'off',\n",
        " 'over',\n",
        " 'under',\n",
        " 'again',\n",
        " 'further',\n",
        " 'then',\n",
        " 'once',\n",
        " 'here',\n",
        " 'there',\n",
        " 'when',\n",
        " 'where',\n",
        " 'why',\n",
        " 'how',\n",
        " 'all',\n",
        " 'any',\n",
        " 'both',\n",
        " 'each',\n",
        " 'few',\n",
        " 'more',\n",
        " 'most',\n",
        " 'other',\n",
        " 'some',\n",
        " 'such',\n",
        " 'no',\n",
        " 'nor',\n",
        " 'not',\n",
        " 'only',\n",
        " 'own',\n",
        " 'same',\n",
        " 'so',\n",
        " 'than',\n",
        " 'too',\n",
        " 'very',\n",
        " 's',\n",
        " 't',\n",
        " 'can',\n",
        " 'will',\n",
        " 'just',\n",
        " 'don',\n",
        " \"don't\",\n",
        " 'should',\n",
        " \"should've\",\n",
        " 'now',\n",
        " 'd',\n",
        " 'll',\n",
        " 'm',\n",
        " 'o',\n",
        " 're',\n",
        " 've',\n",
        " 'y',\n",
        " 'ain',\n",
        " 'aren',\n",
        " \"aren't\",\n",
        " 'couldn',\n",
        " \"couldn't\",\n",
        " 'didn',\n",
        " \"didn't\",\n",
        " 'doesn',\n",
        " \"doesn't\",\n",
        " 'hadn',\n",
        " \"hadn't\",\n",
        " 'hasn',\n",
        " \"hasn't\",\n",
        " 'haven',\n",
        " \"haven't\",\n",
        " 'isn',\n",
        " \"isn't\",\n",
        " 'ma',\n",
        " 'mightn',\n",
        " \"mightn't\",\n",
        " 'mustn',\n",
        " \"mustn't\",\n",
        " 'needn',\n",
        " \"needn't\",\n",
        " 'shan',\n",
        " \"shan't\",\n",
        " 'shouldn',\n",
        " \"shouldn't\",\n",
        " 'wasn',\n",
        " \"wasn't\",\n",
        " 'weren',\n",
        " \"weren't\",\n",
        " 'won',\n",
        " \"won't\",\n",
        " 'wouldn',\n",
        " \"wouldn't\"]"
      ],
      "execution_count": null,
      "outputs": []
    },
    {
      "cell_type": "code",
      "metadata": {
        "id": "WwkobFE3do9I",
        "colab_type": "code",
        "colab": {}
      },
      "source": [
        "final_words=[word for word in tokenized_words if word not in stopwords]"
      ],
      "execution_count": null,
      "outputs": []
    },
    {
      "cell_type": "code",
      "metadata": {
        "id": "uSrXdSX4aKpU",
        "colab_type": "code",
        "colab": {
          "base_uri": "https://localhost:8080/",
          "height": 54
        },
        "outputId": "d0b597d3-f536-4a96-e969-4feb4ed416de"
      },
      "source": [
        "emotions_lists=[]\n",
        "with open('emotions.txt','r') as file:\n",
        "  for line in file:\n",
        "    clear_line=line.replace('\\n','').replace(',', '').replace(\"'\",'').strip()\n",
        "    word,emotions = clear_line.split(':')\n",
        "    if word in final_words:\n",
        "      emotions_lists.append(emotions)\n",
        "\n",
        "w=Counter(emotions_lists)\n",
        "print(w)"
      ],
      "execution_count": null,
      "outputs": [
        {
          "output_type": "stream",
          "text": [
            "Counter({' attracted': 3, ' sad': 3, ' adequate': 2, ' free': 2, ' happy': 2, ' fearful': 2, ' fearless': 1, ' average': 1, ' lost': 1, ' independent': 1, ' surprise': 1, ' anxious': 1})\n"
          ],
          "name": "stdout"
        }
      ]
    },
    {
      "cell_type": "code",
      "metadata": {
        "id": "W8aqkUx8cMkq",
        "colab_type": "code",
        "colab": {
          "base_uri": "https://localhost:8080/",
          "height": 276
        },
        "outputId": "3e3f9f13-9865-4ea4-ea7c-4fbb770d691d"
      },
      "source": [
        "fig, ax1 = plt.subplots()\n",
        "ax1.bar(w.keys(), w.values())\n",
        "fig.autofmt_xdate()\n",
        "plt.savefig('graph.png')\n",
        "plt.show()"
      ],
      "execution_count": null,
      "outputs": [
        {
          "output_type": "display_data",
          "data": {
            "image/png": "[encoded data removed]",
            "text/plain": [
              "<Figure size 432x288 with 1 Axes>"
            ]
          },
          "metadata": {
            "tags": [],
            "needs_background": "light"
          }
        }
      ]
    },
    {
      "cell_type": "code",
      "metadata": {
        "id": "CwMoJ3i2cMtA",
        "colab_type": "code",
        "colab": {}
      },
      "source": [
        "def get_tweets():\n",
        "  import GetOldTweets3 as got\n",
        "  tweetCriteria=got.manager.TweetCriteria().setQuerySearch('Covid-19')\\\n",
        "    .setSince(\"2020-04-20\")\\\n",
        "    .setUntil(\"2020-05-20\")\\\n",
        "    .setMaxTweets(250)\n",
        "  tweets=got.manager.TweetManager.getTweets(tweetCriteria)\n",
        "  text_tweets=[[tweet.text] for tweet in tweets]\n",
        "  return text_tweets"
      ],
      "execution_count": null,
      "outputs": []
    },
    {
      "cell_type": "code",
      "metadata": {
        "id": "w8CmtQV6e_VB",
        "colab_type": "code",
        "colab": {}
      },
      "source": [
        "text= \"\"\n",
        "text_tweets=get_tweets()\n",
        "length=len(text_tweets)\n",
        "for i in range(0,length):\n",
        "  text=text_tweets[i][0] + \" \" + text\n",
        "\n",
        "lower_case=text.lower()\n",
        "cleaned=lower_case.translate(str.maketrans('','',string.punctuation))\n",
        "tokenized=cleaned.split()\n"
      ],
      "execution_count": null,
      "outputs": []
    },
    {
      "cell_type": "code",
      "metadata": {
        "id": "WP4X-PpTcMrI",
        "colab_type": "code",
        "colab": {
          "base_uri": "https://localhost:8080/",
          "height": 1000
        },
        "outputId": "d90c1c27-7117-425a-a9ce-3337a3068d78"
      },
      "source": [
        "text_tweets"
      ],
      "execution_count": null,
      "outputs": [
        {
          "output_type": "execute_result",
          "data": {
            "text/plain": [
              "[['1.179 mortes por COVID-19 nas últimas 24h. Menino João Pedro assassinado brutalmente aos 14 anos reforçando o genocídio da população negra e periférica. Um fascista estúpido apoiado por fascistinhas. Até quando?'],\n",
              " ['The DOL/IRS timeframe extension for employee benefits is here. Here is what you should know: https://hubs.ly/H0qtLy20 #COBRA #COVID19 '],\n",
              " ['Finally some actual facts & promising research news in regards to #covid19 #pandemic'],\n",
              " ['Boletín Prensa @Plan_Ecuador #Covid_19 #ViolenciaDeGénero'],\n",
              " ['Conferencia de prensa de la @SSalud_mx. Actualización del #COVID19 en México. Martes 19 de mayo 2020. '],\n",
              " ['Feeling covid-19 impact? Rutgers University wants to hear from East Coast fishermen | National Fisherman https://www.nationalfisherman.com/mid-atlantic/ing-covid-19-impact-rutgers-university-wants-to-hear-from-east-coast-fishermen/'],\n",
              " ['En este punto es clave pensar que cualquier intento en frenar la pandemia basándose en bloquear la acción viral o contener sus efectos sobre el organismo no es más que la última línea de batalla: SARS-CoV-2 no es la “causa” única del fenómeno alrededor de la COVID-19...'],\n",
              " ['Now we know why there are more deaths in those states. Putting people recovering from covid19 into nursing homes was like locking the wolve in the chicken coop.'],\n",
              " [\"Even though thousands of doctors say they have used it and it has saved lives - you don't want a single person to take it because there is 0.00000001% chance it could kill them... What's the current mortality rate of COVID-19?\"],\n",
              " ['Recomendaciones para cuidar las finanzas personales en tiempos del #COVID19 https://youtu.be/4S1nrfrsBYo @CobaevVeracruz'],\n",
              " ['O governo dos Estados Unidos anunciou que vai trabalhar em conjunto com o Ministério da Saúde e a Fiocruz para melhoria da detecção de casos e controle dos surtos do covid-19! A história de que o governo Bolsonaro não tem feito nada para conter o vírus cai por terra mais uma vez.'],\n",
              " [\"Legit there is very little difference between Eric Weinstein's position on Covid 19 and David Icke's. \"],\n",
              " ['#ATENTOS. #COVID19. Extienden #cuarentena y emergencia sanitaria a nueva fecha.'],\n",
              " ['Sedatu informó que ocupará el aeropuerto en Santa Lucía para la reactivación económica ante la crisis por COVID-19; informaron que se espera que genere 250 mil empleos. https://politico.mx/_/nnG'],\n",
              " ['#BeAuthenticRealTrue #GarageWorkoutChronicles #Covid_19 #BrothersFromAnotherMotha #BrothersForLIFE #SpecializedBike GOALS 100 Miles/wk, 400 Miles/mo. Week #20 Total(s): 34.3 Miles Total Miles to Date:… https://www.instagram.com/p/CAY4YIADUw5/?igshid=1q9s89fhxihmg'],\n",
              " ['De q se asombran, @HLGatell &amp; @lopezobrador_ han ocultado las verdaderas cifras de contagiados y fallecidos x #COVID19 ¡Y nadie dice nada!.'],\n",
              " ['#yugioh #yugimuto #jadenyuki #yuseifudo #yumatsukumo #astral #yuyasakaki #yusakufujiki #duelmonsters #gx #5ds #ZEXAL #arcv #vrains #anime #japon #Covid_19 #StayAtHome'],\n",
              " ['Mira @Alexisahumada Que bueno lo que me comentaste se está haciendo desde APS en la comuna que trabajas para seguimiento de pacientes #COVID19 #saludoral Aqui una iniciativa a nivel hospitalario. Desde @uchileodonto podemos colaborar?'],\n",
              " ['Cumple Consejo Municipal de Emergencias Covid-19 dos Meses de Servicio a los Naucalpenses http://www.joseacontreras.net/blog/issemym/2020/05/19/cumple-consejo-municipal-de-emergencias-covid-19-dos-meses-de-servicio-a-los-naucalpenses/'],\n",
              " ['Un espectro clínico amplio y variopinto no permite clasificar a la COVID-19 tan solo como otra infección potencialmente grave de vías respiratorias; de hecho es una formidable imitadora de muchos síndromes:'],\n",
              " ['Para los que salen y critican la cuarentena el presidente los tendría que dejar salir eso sí previa firma de un papel en el que renuncian a la atención médica y al respirador.basta pelotudos no toman conciencia del peligro que es contagiarte del covid,19'],\n",
              " ['EDITORIAL: COVID-19, LOS MIL Y UN ROSTROS DE LA NUEVA “GRAN SIMULADORA”. Dr. Hugo Villarroel-Ábrego, médico internista, cardiólogo y ecocardiografista. El SARS-CoV-2 y la especie humana han interactuado devastadoramente desde hace por lo menos seis meses. Abro hilo...'],\n",
              " ['Suspensión de clases, retiro de semestre online, reponer el semestre con los 5 meses de vacaciones que reciben al año. El distanciamiento social siempre será la mejor medida para evitar el contagio del Covid-19.'],\n",
              " ['COVID-19 in B.C.: Health Minister answers border questions, calls for condemnation of anti-Asian attacks #BChealth #BCpoli #Cdnpoli #ABpoli #COVID19Canada #COVID19BC #COVID19Vancouver #BritishColumbia #Vancouver #Washington'],\n",
              " ['#武漢コロナウイルス #SARS_CoV_2 #COVID19 #NEJM 心血管疾患の病歴と降圧薬の使用院内死亡リスクに及ぼす影響を検討。 心血管疾患の既往は院内死亡率の増加と関連があったものの、降圧薬の使用は死亡率増加と関連が見られなかったと報告。'],\n",
              " ['The Virginia Dept. of Health is hiring 1300 contractors: COVID-19 case investigators, contact tracers, testing coordinators, contact tracing supervisors, analytics coordinators, and data managers. If you are interested in serving as a contractor, please contact us to apply. '],\n",
              " ['Colombia supera las 600 muertes por covid-19; contagios, casi 17 mil https://www.eltiempo.com/salud/cuarentena-en-colombia-conozca-el-numero-de-casos-de-coronavirus-hoy-19-de-mayo-497202 vía @eltiempo'],\n",
              " [\"So @MLB wants to institute social distancing rules like 'no infield throw arounds' presumably to avoid multiple people touching one baseball. 20 something athletes are really convinced they will die from Covid-19? How are the infected NBA'ers doing?\"],\n",
              " ['@ChrisCuomo hey douche where is your outrage and vitriol on the idiocy of your Governor’s leadership. Even a moron knows the risk the elderly face. Putting Covid 19 patients back in nursing homes. Come on speak out you coward find your purpose'],\n",
              " ['Peluang Tumbuhnya Asuransi Jiwa di Tengah Pandemi Covid-19 '],\n",
              " ['? as in really a bot?? Your view that CA should have opened after 3-4 weeks is amazing - the situation at that time attached - NY having 1.7x as many deaths per day from Covid19 as would normally have from all causes, 6 US states in top 12 - how would LA/SF not have followed? '],\n",
              " ['اللهم انك عفو تحب العفو فاعف عنا اللهم نسالك شفاء لي ولاخوتي ولجميع المرضى واجعل ما اصابنا تكفيرا لذنوبنا ورفعة لدرجتنا #ليله_27 #كرونا #طرد_المصريين_من_الكويت #Covid_19 #البدون #السعوديين_يحبونك_يامحمد'],\n",
              " ['\"It is beginning to look as if some of the worst shortcomings of the response to Covid-19 can be traced to a long legacy of over-centralisation.\" https://www.onlondon.co.uk/dave-hill-governments-tfl-power-grab-is-the-wrong-direction-of-travel/ via @OnLondon'],\n",
              " ['Cadê o boletim de atualização sobre a COVID-19 nas últimas 24h? Sabem que tivemos mais de 1000 mortes? O que aconteceu?'],\n",
              " ['Si me muero a causa del covid19 al menos fue pensando en ti '],\n",
              " ['#MichoacanConHambre el 70% de la población económicamente activa del estado, trabaja en el sector informal, sin un ingreso fijo y sin apoyo alimenticio. ¿Qué han hecho los gobiernos para ayúdarlos en esta contingencia ocasionada por el COVID-19? '],\n",
              " ['Uruguay continúa bajando la curva de contagios; hoy de 410 test resultó 1 positivo, elevando a 738 los casos acumulados de Covid-19 139 tienen la enfermedad , 20 fallecieron y 579 se recuperaron.'],\n",
              " ['Covid 19. Some of y’all won’t get it, until ya GET it. Smh #simpletons'],\n",
              " ['ICYMI: Veterans Affairs Secretary Robert Wilkie said that Gov. Andrew Cuomo (D-N.Y.), who has been widely praised by the media for his #coronavirus handling, had requested \"tens of thousands\" of doses of #hydroxychloroquine. @DNC @TheDemocrats #COVID19 https://justthenews.com/government/white-house/watchtrump-meets-cabinet-members?fbclid=IwAR2xEFYe7EHBvh3rvNQt_n8b3iao1xd1mu6uXTbG_JmPd0XF4degLsvqU9A#.XsRszFcCwCU.facebook'],\n",
              " ['Confirmaron 438 nuevos casos de #Covid_19 Total de Infectados 8.809. 393 Muertos 31,3% son casos de Circulación Comunitaria Usa Tapaboca Mantene Distancia De lo contrario vas a formar parte de las Estadisticas #QuedateEnCasa'],\n",
              " ['Today, @AjitPaiFCC updated @HouseCommerce and @EnergyCommerce on the steps FCC is taking to #KeepAmericansConnected and respond to #COVID19. Listen here: '],\n",
              " ['Scientists isolate live COVID-19 virus from feces, detect RNA on surfaces '],\n",
              " ['AJUDE A PROTEGER OS POVOS INDÍGENAS DA AMAZÔNIA DO COVID-19 '],\n",
              " ['De 748 jugadores y staffs testeados por covid-19 en la Premier, hay 6 casos positivos de tres clubes, un 0.8%. La Premier seguirá testeando, siguiendo el ejemplo de la Bundesliga (ellos examinaban 2 veces a la semana).'],\n",
              " ['We have to defend our sovereignty with all might. China wants to divert world attention from its complexity in spread of COVID-19. it is time to ..Chinese troops resort to aggressive posturing in Ladakh, North Sikkim: Sources | India News - Times of India '],\n",
              " [' En Vivo | Conferencia de prensa de Salud sobre Covid-19 http://ow.ly/IlXh50zL0ci'],\n",
              " ['Sweden tops Europe COVID-19 deaths per capita over last seven days - Reuters '],\n",
              " ['https://kaltim.tribunnews.com/2020/05/20/kisah-kluster-corona-misterius-batam-tak-ke-mana-mana-tapi-kena-hingga-bayi-2-tahun-akhirnya-wafat #PSBB #psbbbandung #PSBBJakarta #PSBBBelumDilonggarkan #psbbmalangraya #psbbsurabaya #PSBBKedodoran #Jokowi #vaksin #COVID19 #Covid_19'],\n",
              " ['Fiquei sabendo que hoje a Fasc confirmou o 1º caso de Covid-19 na equipe. Após ser informada que a coordenadora do CREAS Sul está com o vírus, a Prefeitura ordenou que os funcionários voltassem a trabalhar, sem realizar uma testagem para verificar se mais alguém está confirmado.'],\n",
              " ['El Aislamiento Preventivo Obligatorio se extiende hasta el 31 de mayo: Presidente Duque al anunciar nuevas medidas por la emergencia por la pandemia del covid-19 '],\n",
              " ['All what the human body requires is a strong immune system to fight the Virus Vitamin C intravenous can be a game changer. #Covid_19 #COVID19 #Corona Can early and high intravenous dose of vitamin C prevent and treat cor...'],\n",
              " ['Ahhh yes.. bc the lethality of a disease is changed with lockdowns.. and ignore all the seroprevalence studies that suggest how widespread and unremarkable Covid-19 is '],\n",
              " ['#WhiteHouse now predict swift economic #recovery, despite warnings that major problems could persist - #coronavirus #covid19 #pandemic #lockdown #health #news #healthcare #economy #business #jobs'],\n",
              " ['“The juxtaposition of images in the news of farmers destroying crops and dumping milk with empty supermarket shelves or hungry Americans lining up for hours at food banks tells a story of economic efficiency gone mad” #COVID19 #foodsecurity'],\n",
              " ['Nadie de los medios se hizo eco de la Clínica Los Cedros de San Justo La Matanza Provincia de Buenos Aires. Que paso un muerto de COVID 19, el personal contagiado 25 o más. Quien es el dueño ? Amigos del poder ? Marmicoc olla a presión .'],\n",
              " ['Covid-19: Brasil passa da marca de mil mortes registradas por dia https://sagresonline.com.br/covid-19-brasil-passa-da-marca-de-mil-mortes-registradas-por-dia/'],\n",
              " ['They certainly have a right to feel how they feel. No argument there. But you don’t drive down a road that’s closed because fuck it, it’s your road and no one can tell you where to drive do you? Keep being a . I just hope it’s your family that contracts covid-19 and not mine'],\n",
              " ['Soy enfermera, por desgracia he tenido que salir todos los días para ir a mí hospital. Uso mascarilla dentro del hospital y en la calle, porque conozco lo que es el Covid-19 y porque me considero socialmente responsable.'],\n",
              " ['Every night at 7 the entire city claps for #COVID19 frontline workers- it’s truly touching. Meanwhile, there are people everywhere without #masks and not #socialdistancing To truly show gratitude &amp; protect your community, please wear a face covering &amp; social distance '],\n",
              " ['“Aislamiento preventivo obligatorio “ eso se llama cuarentena, ¿por qué el nombre rebuscado? Que dice @DanielSamperO #Covid_19 #LoUltimo #CuarentenaExtendida #CuarentenaEnLaCity #coronaviruscolombia'],\n",
              " ['See how @citrix is allowing @redbullracing to keep working during #Covid19 , by giving the #F1 team access to heavy CAD apps, as well as other day to day applications, smoothly and #securely.'],\n",
              " ['What if gov jonvic is actually the covid19 final boss?'],\n",
              " ['Covid-19: Brasil passa da marca de mil mortes registradas por dia - https://infonet.com.br/noticias/saude/covid-19-brasil-passa-da-marca-de-mil-mortes-registradas-por-dia/ pic.twitter.com/yjdKmV5alM'],\n",
              " ['El Poder Judicial no quiere ser responsable de los delincuentes liberados por covid-19, por eso el Gobierno le dará una ayudita con un decreto de urgencia. El Perú debe construir 25 cárceles uno por Región autosostenibles que produzcan para el Estado distribuyendo los internos.'],\n",
              " ['Love in the time of COVID-19 #BadNamesForARomanceNovel'],\n",
              " ['His death certificate lists the cause of death as Covid-19 '],\n",
              " ['trump is obviously trying to perpetrate a scam with his declaration of using Hydroxychloroquine and citing false statements about healthcare first responders using it as a preventative for #Covid_19 . The whole thing stinks like rotted fish.'],\n",
              " ['Have #MultipleSclerosis? Know someone who does? Friday is the last day to complete our survey on well-being during #COVID19. Help us understand the effects of the pandemic on people affected by MS. https://tinyurl.com/uwcovidsurvey'],\n",
              " ['Cuando el semáforo de la epidemia por el Covid-19 en nuestro país marque color naranja, las empresas cerveceras... NOTA COMPLETA → https://bit.ly/3g6yVYg #Cerveceras #Empresas #Actividad #Covid_19mx #Semáforo'],\n",
              " ['You gotta love how @GOP is cherry picking the dangers of COVID19 Get those kids back in school/ oh no prison is too dangerous for Paul Manafort Let the white ladies get their hair did/ oh no too dangerous for voting #makeupyourdamnminds'],\n",
              " ['#COVID19 #FoxAndFriends #FoxNews @seanhannity @DonaldJTrumpJr Has anyone gotten this?'],\n",
              " ['COVID-19 PANDEMIC: 13 Ugandans back home even as border is closed '],\n",
              " ['Hoje só notícia ruim, né :( Além do João Pedro, que joga na nossa cara uma realidade terrível que existe há anos e ninguém faz nada que efetivamente mudar, agora mais de mil mortes pelo COVID-19.'],\n",
              " ['Ministry of Health and Family Welfare issues guidelines for dental professionals in #Covid19 pandemic situation.'],\n",
              " ['El plan infalible contra el Covid 19 de enero.'],\n",
              " ['Exactly what I said yesterday. Don the con selling snake oil. #COVID19'],\n",
              " ['Sacerdote “dispara” agua bendita a fieles con pistola de juguete para evitar contagio de Covid-19 #fe https://j.mp/2ANATNb'],\n",
              " ['Boa Noite 247 - Brasil passa pela 1º vez de mil mortes por Covid-19 (19.... https://youtu.be/YhsXXmJh-GM via @YouTube'],\n",
              " ['Tahidi jahil ko kb degi saza sarkar? Kya corona failane me iski koi sazish to nahi? Kitne logo ke sampark me aye hoge ye log? #sealzeenews due to spreading COVID-19'],\n",
              " ['#grandedebate Quem Esta Falando a Verdade, a OMS diz que nunca indicou confinamento como medida contra o COVID-19. Isso é Verdade ?'],\n",
              " ['Sigue por #NoticiasÉnfasis la actualización del reporte #covid19 en #México.'],\n",
              " ['5/18のスウェーデンの死亡者積算数の予測。予測死亡者累積数は人口比0.0464%で、他の西ヨーロッパ諸国と余り違いがない。むしろフランスが収束期に入っても、モデル予測より多くの死亡者を出し始めている方が目立つ。 https://docs.google.com/presentation/d/1M3wCr575y5J8sb5MJhg97VINIMc1JOps2tLqErQZXKk/edit?usp=sharing #Sweden #COVID19 #Mathematica'],\n",
              " ['LA BOMBA CHINA . El presidente Iván Duque presenta un nuevo reporte sobre el estado del COVID-19 en Colombia. Según el último informe del Instituto Nacional de Salud, la pandemia ya deja 613 muertes y 16.935 contagios en el país.'],\n",
              " ['Coronavirus España hoy, última hora en directo | Los casos globales de Covid-19 alcan… https://wayback.archive.org/web/20200519200719/https://www.elmundo.es/ciencia-y-salud/salud/2020/05/19/5ec383e4fc6c83ca0f8b45b4.html ➜ https://wayback.archive.org/web/20200519235932/https://www.elmundo.es/ciencia-y-salud/salud/2020/05/19/5ec383e4fc6c83ca0f8b45b4.html'],\n",
              " ['And to raise awareness on the preventive/protective measures and promote good hygiene practices to reduce the spread of #COVID19 #thankyouvolunteer #ThankYouHealthCareWorkers #StayHome #StaySafeNigeria #lockdown'],\n",
              " ['Nossa bandeira está sendo tingida de vermelho... E o vermelho não é o Comunismo não!!! É o sangue dos brasileiros mortos pelo Covid-19... '],\n",
              " ['I have noticed since @CPHO_Canada has hinted that wearing homemade cloths masks would help flatten the curve the number of cases of COVID19 have gone down in #canada Maybe this should be mandatory across Canada and hopefully stop it even more... What do you think @StrangRobert ??'],\n",
              " ['Mereka yg munculin tagar itu adalah mereka yg tidak punya partisipasi apa apa dalam memerangi covid 19. Hanya asal ngomong..'],\n",
              " ['Mis planes | El 2020 #COVID19 '],\n",
              " ['Mr @joerogan would be happy to answer/discuss with you. Hope you well. #COVID19'],\n",
              " ['For the love of God can someone tell #WGRZ to knock off opening their news cast with COVID-19 box scores!!! It’s bad we know it, but a running total on deaths is not makes things better.'],\n",
              " ['With 4% of the world’s population, we have 25% of all COVID-19 cases. Not a very good report card.'],\n",
              " ['Emergency Response Manager to support the work of All People All Places in response to the Covid-19 crisis.#HomelessCovid19 Please see the JD here https://www.homeless.org.uk/jobs/all-people-places-emergency-response-team-manager'],\n",
              " ['@narendramodi @ArvindKejriwal @BJP4India Sir PM ,with UNCERTAINTY in life, loosing of jobs , no money in hands during Unplanned Lock Down COVID 19, Migrants preferred to go their village for living with their family. BJP Leadership is busy in Modi Modi only.'],\n",
              " ['Equipamento brasileiro permite monitorar remotamente oxigenação de pacientes com Covid-19 ( A CIÊNCIA NO BRASIL EXISTE, NA ÁREA MÉDICA AVANÇADA! FORA BOLSONARO E O FASCISMO. ) '],\n",
              " [\"Good morning everybody‼︎ What's up? We hope you'll have a wonderful Wednesday from now on. Don't lose to the COVID-19!‼︎‼︎(^_−)−☆ #Jazz #LP #CD #Food #Dishes #Love #Osaka #kitashinch #Bar #Bartender #Fashon #Showa #Moscow #Otokomae #Kaiseki #Moga #Travel #Wine #Whisky\"],\n",
              " [\"I don't have to show you shit, your mind is as open as a bear trap. There is a mountain of evidence from epidemiologists to show it is far more contagious then flu. The latent mortality rate is still being assessed but it is far higher than flu. Who heard of Covid19 6 months ago\"],\n",
              " ['I feel weird without a mask now #tuesdaythoughts #tuesdayvibes #covid19 #coronavirus'],\n",
              " [\"Ousted Official Who Managed Florida's Public COVID-19 'Dashboard' Suggests Lack of Transparency as State Reopens \"],\n",
              " ['We are thankful for this! \"Since February 2020 we have dedicated this site to bringing you the factual reality of the entity called the “covid19 pandemic”. We have done this using official statistics and data, and the ignored testimony of experts in the field.\"'],\n",
              " ['@fatimabezerra quer dizer seu amigo @FlavioDino adotou o protocolo do kit covid19 e a senhora não? Quer dizer que o paciente na rede privada pode ter acesso e o sistema público não? Faça isso não! Muita gente ja morreu, vc diz gostar tanto do pobre.. Vergonhoso!'],\n",
              " ['Food Deserts Are Their Own Pandemic Hot Spots. Amid horrifying Covid-19 racial disparities, America needs to expand access to healthy food. by Rahm Emanuel in @genmag'],\n",
              " ['Mandatario de la @GoberNorte @SilvanoSerranoG inspeccionó las obras civiles y la instalación de equipos del nuevo laboratorio de la @Unipamplona, creado en el marco del Plan de Acción COVID-19, liderado por el Departamento https://bit.ly/2yl41dG'],\n",
              " ['@terelu_campos comparte por una buena causa para ayudar a familias afectadas por el covid-19 sin trabajo y sin ingresos donativos por PayPal a la cuenta carlossego14@gmail.com GRACIAS compartid'],\n",
              " ['日本化薬 新型コロナの影響で通期予想「未定」に #日本化薬 #COVID19 | 医薬経済社 https://risfax.co.jp/risfax/177786'],\n",
              " ['As governments slowly lift COVID-19 pandemic restrictions, the easing of these limits will increase the risk of further infections within the community, and thus heighten the danger for those incarcerated within the nation’s correctional facilities. '],\n",
              " [\"Glad I live in Asia not in America. Some people over there're so stupid. Screaming their freedom & right & make rally against virus. Do they ever use their brain? Like do u really think Covid19 will listen 2 ur rally? They will get their freedom after they died bcuz of Covid. \"],\n",
              " ['Which date was first covid 19 case recorded in naija and who was the person?'],\n",
              " ['Covid-19: Brasil passa da marca de mil mortes registradas por dia - https://diariotemporeal.com/25634-covid-19-brasil-passa-da-marca-de-mil-mortes-registradas-por-dia/'],\n",
              " ['Le s’est engagé à soutenir nos partenaires des pays insulaires du Pacifique qui œuvrent pour: prévenir dépister gérer la COVID-19. #PlusFortsEnsemble'],\n",
              " ['@IndiaToday #GurudevSiyagOnNews18.Thanks #news18 for highlighting #gssy and serving Humanity to cure #COVID19 A time to serve Humanity.Will Govt. &amp;Media payattention. #NarendraModi http://Facebook.com/EGSDGSSY &amp; http://www.the-comforter.org &amp; https://youtu.be/REIjlMG65EI '],\n",
              " ['13 USS Theodore Roosevelt sailors test positive after recovering from Covid-19 https://politi.co/2Ly5osp via @politico'],\n",
              " ['This is childish. This government needs to get back to work, to answer questions on Liberal ethics and accountability during this COVID-19 time. What an embarrassment to the world!'],\n",
              " ['#Coronavirus El Gobierno entregó equipamiento al #HospitaldelMilagro Elogiaron al nosocomio por su lucha contra el #COVID19 @JMedranoSalta @MinSaludSalta @GustavoSaenzOK #DNIsalta'],\n",
              " ['ESTÚUUUPIDA! Mi título IDIOTA! #Covid_19 #pandemia #IPN'],\n",
              " [\"Las 10 lk pa' la protesta, acarreo de votantes, 15 lk por votar cartel del oponente, 1 cajita de vino pa los mapuchitos viejos.....me van a perdonar pero nos están puro agarrando pa'l webeo....no les creo nada!! Ni los covid-19 honoríficos....al pueblo lo abandonaron.\"],\n",
              " ['Casos em #SantaCatarina: 5.413 casos (91 mortes) Casos em #Florianópolis: 519 casos (6 mortes) 3.072 recuperados da Covid-19, o que representa 56% Taxa de ocupação atual dos leitos: 57,69% (13% pacientes com a #Covid19) #FiqueEmCasacomaCiência #Coronavirus #coronavirusbrasil'],\n",
              " ['The Houston Astros created COVID-19 to distract us from the fact that they cheated their way to a championship'],\n",
              " ['I think this is an overvalued market. How come that we are near recovery? The V-curve is driving me crazy. With the current volatillity, i guess there are better opportunities to invest but in the near future. Note: This is not a buy or sell recommendation. #DAX #COVID19 #SP500'],\n",
              " ['O Presidente sempre irreverente! Mesmo com a notícia que mais de 1000 brasileiros que morreram de Covid-19, num único dia, não perdeu o humor!! Mais um grande dia para o Vírus! '],\n",
              " ['#PrevenciónyAcción | 4. Se permitirá servicio doméstico, museos, bibliotecas y servicios médicos no relacionados con Covid-19, con bioprotocolos. 5. Restaurantes seguirán con domicilios. 6. Transporte público mantendrá restricciones de operación con límite de 35 %.'],\n",
              " ['Give them a job to fix the shit covid19 tracing app'],\n",
              " ['I am glad I do not live I. New York! The vanity and the lack of common Sense with the New York liberals is amazing and funny all at the same time! Your brother is a joke! His handeling of the nursing homes is a crime ! He should be charged! 41% of all COVID 19 deaths are in'],\n",
              " ['@RailwaySeva covid19 ke Karan journey sambhab nehi hoga counter ticket refund ho raha he mera ticket tata to jammu or return tickets amritsar to tata he jo 24.05.20 ko or 01.06.20he kripaya refund kiya jaya '],\n",
              " ['A sad reality of this Covid-19 is that most woman kept a 2 meter distance from me before this safe distancing rule.'],\n",
              " ['The entire alt-right has gone ballistic for years about four deaths in Benghazi. Not a word about the 91,000 deaths so far from COVID-19.'],\n",
              " ['Producto de la crisis del #COVID-19 los inmigrantes nos encontramos en vulnerabilidad, es por ello que nuestra organización en nombre de miles de inmigrantes hacemos las siguientes peticiones. #PropuestaMigrante'],\n",
              " ['To manage stress and anxiety during these challenging times, focus on the positives. What are you grateful for at this moment in time? #COVID19 '],\n",
              " ['Conferencia de Prensa #COVID19 | 19 de mayo de 2020 #GraciasPorCuidarnos #Notimundo #NotimundoMx'],\n",
              " ['Karena tindakan kecil kamu sangat berdampak bagi orang yang kamu sayangi dan diri kamu sendiri untuk tetap sehat. Serta membantu pahlawan kita, petugas medis di rumah sakit, meminimalisir bertambahnya korban akibat #covid19.'],\n",
              " ['CDC News: Cruise Ship Crew Member Disembarkations https://www.cdc.gov/coronavirus/2019-ncov/travelers/cruise-ship/cruise-ship-member-disembarkations.html #COVID19 #Investigation #CDC #USA #CruiseShips #CrewMembers #Disembarkation #Medical #Emergency #DecadesOfNeglience #IllnessesOnBoard #DiseasesOnBoard #Accountability'],\n",
              " ['plan de testeo de COVID-19 en empleades '],\n",
              " ['This is a must watch on many levels! FYI | Hydroxychloroquine | COVID-19 | MD Speaks Out https://youtu.be/-ByNJtXwFUc via @YouTube'],\n",
              " ['COVID-19 updates for the US #covid19 '],\n",
              " ['Satgas Preemtif- Polri tetap berikan Himbauan tentang No Mudik, di rumah saja dan tetap semangat melawan Covid19 kepada warga Singkawang #Polressingkawang #Opsketupat2020 #stopMudikCegahCovid19 #Lebarandirumahsaja #salamJK'],\n",
              " [\"Parents of all races & income levels want their children to succeed academically. Will #COVID19 finally force schools to treat parents as the academic resources they've always been? My latest @Forbes piece features the work of @springboardNTL https://lnkd.in/g_zrJ6s #WeLeadEd\"],\n",
              " [\"They're all the fucking same. Same ones tweeting void are the same one's retweeting 'Covid-19, Liverpool-18 '. Imagine though if we won it next year too, all that fuss for nothing\"],\n",
              " ['CDC adopts guidelines for transit reopening. #PublicTransit #Transportation #CDC #COVID19 '],\n",
              " ['Dunald Trump tanzt angst vom Amerika Volks und abbigt an China schuldigt ist , weil er kannt nicht mehr die ganze Krankeit covid 19 auslöscht ist und warum das ? weil der Presidenten an kommenden Zeit seiner Ziel ist .'],\n",
              " ['Sabemos que realizas diversas acciones para frenar el COVID-19 en tu localidad. Participa del primer webinar para articular con más iniciativas a nivel nacional. Inscríbete en el siguiente enlace https://bit.ly/2zFo8Ua #PerúEstáEnNuestrasManos #YoMeQuedoEnCasa'],\n",
              " ['Quelque soit la durée de covid-19 , REAL MADRID sera toujours éliminé par MAN CITY '],\n",
              " [\"Hi there, apologies for the delayed response due to Covid-19 outbreak. If you still require any help from us, please DM us with your itinerary number and phone or email address and we'll gladly assist you. Thanks,^SM\"],\n",
              " ['Hasta 500 resultados al día podrán ser obtenidos gracias a la maquinaria de procesamiento de pruebas COVID-19 entregada hoy por el Municipio de Quito, lo que permitirá activar y reforzar cercos epidemiológicos para ralentizar la propagación del virus. #DisciplinaParaVolver'],\n",
              " [\"COVID-19: I can't stop eating\"],\n",
              " ['Geral falando q quando acabar a quarentena vai direto p um churrasco, Pagode! bando de maluco! Vai p igreja agradecer a Deus por você não ter pego a Covid-19 ou algum familiar seu... Só quem perdeu alguém próximo sabe a dor que é..'],\n",
              " ['#adisatriya_bali #sewamotordikerobokanbali #sewamotordidenpasarbali #sewamotordikutabali #motorcycles #denpasar #liburankebali #adisatriyabali #sewamotordilegianbali #sewamotordidalungbali #covid19 #sewamotordibali #liburan #sewamotordiseminyakbali'],\n",
              " ['Cara Mudah Mengetahui Apakah Anda Penerima Bansos Covid-19, Klik http://cekbansos.siks.kemsos.go.id http://dlvr.it/RWzZPc'],\n",
              " ['Producto de la crisis del #COVID-19 los inmigrantes nos encontramos en vulnerabilidad, es por ello que nuestra organización en nombre de miles de inmigrantes hacemos las siguientes peticiones. #PropuestaMigrante'],\n",
              " ['Pues el 2020 no arruinó mis planes porque ni siquiera tenia planes y no puedo morir de covid19 porque yo mori; 1 el día que se separó one direction y 2 el día que Jacke Bass se retiró del porno '],\n",
              " [\"Nope. Do you think deaths with covid 19 are deaths of it? Because even the media has reiterated they aren't. Jesus if you did deaths with flu no one would die of anything else all winter \"],\n",
              " ['A Lire: COVID-19 Management Protocol by the Eastern Virginia Medical School http://covexit.com/covid-19-management-protocol-by-the-eastern-virginia-medical-school/#.XsRyy0pAn2s.twitter'],\n",
              " ['Watch the Pope walk around an empty Rome praying for an end to the COVID-19 pandemic #CORONAVIRUS #FBR'],\n",
              " ['sedang diberlakukan Pembatasan Kegiatan Masyarakat (PKM). Semoga pandemi wabah penyakit Covid-19 cepat segera berakhir. . . #sewamotordicanggubali #seminyak #sewamotordisanurbali #legian #bali #bersatulawancovid19 #kuta #lawancovid19 #sanur #bersamalawancovid19'],\n",
              " ['16 movies released to streaming due to COVID-19 (Greyhound to Apple TV Plus) http://dlvr.it/RWzZPV Via @AndroidAuth'],\n",
              " ['Wonderful segment tonight on @ABC on the Johnson family of Manchester, NH. They lost their dad to #COVID19, but gained a family in the @cmchealth nurses who cared for him and communicated with them from his hospital window. #NoOneIsExpendable #nhpolitics'],\n",
              " [\"Lunenburg man talks running multiple restaurants in COVID-19's takeout era | SaltWire \"],\n",
              " ['Wannan yana da alaqa da Covid-19?'],\n",
              " [' El Grup Treball Sanitat Pública dóna suport a les concentracions #AplaudimentsReivindicatius Hospital Pius #Valls 20 Maig 12 h Hospital Sta.Tecla Tgn. 20 Maig 20 h Hospital Joan XXIII Tgn. 22 Maig 20 h #Tarragona #Covid_19 '],\n",
              " ['$AMZN eCommerce Isn’t Amazon’s Only Segment Benefiting from COVID-19, Says 5-Star Analyst '],\n",
              " [\"RT edelim yayılsın GÜN BİRLİK GÜNÜ. YKS mağduru arkadaşlar destek olalım birbirimize!! Sınavlar TEMMUZ'DA düğünler HAZİRAN'DA #dugunlericinresmiaciklama #ErteleKiBayramOlsun #ykstarihinedokunma #Barismuratyağcı #survivor2020 #kadirgecemizmubarekolsun #Covid_19 #Survivor\"],\n",
              " ['Mahasiswa terdampak covid -19 , mengundurkan diri?? '],\n",
              " ['Pacientes con COVID-19: mejor respiración después de la cirugía de fractura Las infecciones por COVID-19 se propagaron rápidamente en el norte de Italia de febrero a abril de 2020. Durante ese tiempo, la unidad de ortopedia del Hospital Humanitas Gavazz… http://www.facebook.com/pages/p/1671132543110437'],\n",
              " ['Even before covid-19, people shooting fireworks off one day removed from a fireworks day have always been the worst.'],\n",
              " ['Thanks to @AmChemistry President &amp; CEO @JahnChris for visiting with the @NACD_RD Board of Directors this afternoon. Greatly appreciate the update and look forward to continuing our work together on #COVID19, #CFATS, #RailReform and other important issues. #ChemicalIndustryStrong'],\n",
              " ['In the midst of the darkness of this COVID-19 Novel Coronavirus when at every turn every day there is non ending news on how bad it is and how bad the second wave is going to be, the whole word must be made aware that there is LIGHT STILL IN THE WORLD!'],\n",
              " ['Activo de Producción Reynosa refuerza medidas preventivas contra COVID-19 con pruebas rápidas http://notiradiotamaulipas.com/2020/05/19/activo-de-produccion-reynosa-refuerza-medidas-preventivas-contra-covid-19-con-pruebas-rapidas/'],\n",
              " ['BACK WHEEL NATION #covid_19 https://instagr.am/p/CAY2aM-lZgI/'],\n",
              " ['To prove my point @dawnstaley, #covid19 being the exception, is worth every penny spent on her to be our coach. She has put up banners, won games and championships. No reason that shouldn’t have been the goal in football.'],\n",
              " ['GOD has given HIS ONLY BEGOTTEN SON for the LIGHT OF THE WORLD. https://ministryofparadise.blogspot.com/ #God #HolySpirit #JesusChrist #Bible #Scripture #SALVATIOM #ENDTIMES #PROPHECY #Coronavirus #COVID19 #COVID_19 #Globalpandemic #pandemic #World'],\n",
              " ['COVID-19対策する政策や中小企業・市民の生活を支える法案審議に時間かけてほしい。 #国民投票法改正案に抗議します'],\n",
              " ['COVID-19 was prepared in a genetics lab through RNA splicing and released upon the general public via weather balloons in an attempt to give Chrissy Teigen even more clout.'],\n",
              " ['𝗖𝗢𝗡𝗧𝗔𝗚𝗜𝗔𝗗𝗢𝗦 30 empleados del servicio de recolección de basura de Cuenca están contagiados con el Covid-19, según versión oficial del Municipio de ese cantón. Tras los resultados de las pruebas PCR aplicadas, el Municipio tomó todas las medidas. '],\n",
              " ['O Brasil registra recorde de morte pelo covid 19, e quem vai coordenar a pasta de estratégia é militares nenhum faz parte de alguma especialidade em saúde tem como ser otimistaaaa???'],\n",
              " [\"I've been thinking about #COVID19 Fourth in a series. #Covid_19 #writing #amwritingpoetry #sonnets #writingcommunity\"],\n",
              " ['A protest leader in North Carolina got infected by COVID-19, probably infected others.'],\n",
              " ['No para este #Covid_19 fe y fueza mundo entero '],\n",
              " ['Na reunião de hoje da comissão externa que debate ações contra o #Coronavírus, o diretor-presidente da Anvisa revelou que está com Covid-19. Ele entrou em isolamento social e segue trabalhando a distância. Saiba mais: '],\n",
              " ['I am so pissed off right now at the Acadamy awards. I mean I get it, times are tough right now because of covid 19, but are you really gonna let one measly pathetic fucking virus stop you from having the best show on television? I mean you have got to be god damn kidding me!!'],\n",
              " ['Burası Antalya, her şey olur Antalya’da yeni tip korona virüs (Covid-19) tedbirleri çerçevesinde kısmi karantina bölgesine kanalizasyondan girmeye çalışırken mahsur kalan kişi kurtarıldı. '],\n",
              " ['Que empresa de quimicos que este leyendo que tenga clorito de sodio en polvo al 80 por kg que me contacte por este medio #Covid_19 #19Mayo #directvve #'],\n",
              " ['Hoy el fenómeno es el DIRECTV, antes fue el Covid19-gasolina, mañana será otro y así... Realidades de un pueblo sin luz, sin agua, sin gas, sin gasolina, sin plata, sin comida, sin medicina, sin presidente, sin patria...'],\n",
              " ['De 11 congresistas con COVID19 pasaremos a 30 congresistas!!!!! Que parte no han entendido los congresistas??? Bueno tal vez sea la oportunidad para que sean menos....así, como para burros'],\n",
              " ['if covid-19 doesn’t kill me, my online classes will'],\n",
              " ['NATION ON WHEELS #covid_19 https://instagr.am/p/CAY2ABil3uK/'],\n",
              " [' #NadaPersonal | @BenitoBaranda de @americasolidari por medidas Covid-19: \"Cuando dicen \\'yo no quiero que las personas se habitúen a un bono\\' ignoran lo que pasa en las poblaciones, la gente empieza a desesperarse y eso lleva a la violencia\" En vivo http://duna.cl/tv'],\n",
              " ['Black skiers came to celebrate a historic milestone. Covid-19 followed them home '],\n",
              " ['#NeoNetSalud| Entre Ríos sigue sin registrar casos positivos de Covid-19 '],\n",
              " ['Membayar zakat dan menjadikan dana tersebut tambahan dana sarurat di tengah pandemi Covid 19 yang membuat perekonomian keluarga terganggu @VRadioFM @anyadwinov @HilbramDunar #bangunpagi'],\n",
              " ['Put that shit back!!! #HendrixBrown #PapaTutuTyru #BlackMen #BlackWomen #BlackPeople #BlackPower #onlineshopping #covid_19 #quarantinelife #quarantine #lol #lmao #funny #funnymeme #funnymemes… https://www.instagram.com/p/CAY4UnzHJJp/?igshid=1nhlllazcfc2c'],\n",
              " ['Babinsa Desa Lappae Serda Munawir melaksanakan komsos dengan kegiatan mendampingi Kepala desa binaannya dalam melakukan penyaluran Bantuan Langsung Tunai ( BLT ) Dana desa Lanca tahun 2020 tahap 1 bulan April 2020 sebagai tindak lanjut penanganan covid-19 kepada 105 orang '],\n",
              " ['Excellent work by our medical professionals conducting #COVID19 testing with @scdhec at Rosewood Hills today with the Columbia Housing Authority. Thanks all!'],\n",
              " ['Pacientes recuperados que vuelven a dar positivo a COVID-19 no contagian a otras personas: estudio de Corea del Sur https://revoluciontrespuntocero.mx/?p=349180 via @revolucion3_0'],\n",
              " ['RT MemoVelazquezMX: Este miércoles 20 de mayo, a partir de 9:30 am. estaré como invitado en una transmisión en vivo desde la pág. de alcaldesdemexico, donde trataremos temas relacionados con las acciones tomadas por el gobierno municipal ante el #Covid19… '],\n",
              " ['Los locatarios afirman que no han recibido apoyos por parte del ayuntamiento en medio de la crisis por el #Covid_19 '],\n",
              " ['¡Qué contradicción!! Que Michoacán sea ejemplo nacional agrícola en producir alimentos... y que miles de michoacanos no tengan qué comer por quedarse en casa cuidandose de la covid-19. #MichoacánConHambre'],\n",
              " ['Mahasiwa Terdampak Covid-19, 300 Mengundurkan Diri??? Tagar #BebaskanUKTUNY bertengger di jajaran trending topik Twitter, bertepatan dengan Dies Natalis UNY yg ke-56. Beredar berita di media online terkait mahasiswa yg tidak mampu membayar Uang Kuliah.'],\n",
              " ['RT AlcaldesMexico: Mañana los esperamos en una sesión por #FacebookLive hablando de acciones de gobierno ante COVID-19. Nos acompañarán: MemoVelazquezMX, alcalde de AtlixcoAyto MauricioOsorio_, alcalde de #ValleDeBravo #COVIDAlcaldesMx …'],\n",
              " ['https://planetamegaxx.blogspot.com/2020/04/hwayugi-korean-odyssey.html?m=0 #Covid_19 #sailormoonredrawchallenge #LoUltimo #GuatonesConHambre #GuatonesConHambre #GuatonesConHambre'],\n",
              " ['#COVID19 クラスタ分析で「武漢型は流行初期で収束して、中盤からはEU型」って話が有ったので、 武漢型には効いたけどEU型に効きが悪かったとか有るかもしんない あと、「飲まなかったら もっとひどかった」かどうかは 見極めが難しそう 素人が適当 '],\n",
              " ['Did time check the ones that does from other causes and the state contributed to Covid-19 ? New York Dtate is running this scam.'],\n",
              " ['Посольство РФ потребовало от Bloomberg опровержения за статью о COVID-19 в России - http://ppfood.ru/posolstvo-rf-potrebovalo-ot-bloomberg-oproverjeniia-za-statu-o-covid-19-v-rossii/'],\n",
              " ['Oh, no. :-( \"Pier 1 Imports is permanently closing its retail stores due to the COVID-19 pandemic\" '],\n",
              " ['FG tells Nigerian People to “prepare for the worst” - COVID-19 - https://www.notice.com.ng/fg-tells-nigerian-people-to---8220-prepare-for-the-worst--8221----covid-19 #Notice #Nigeria #Naija #Health'],\n",
              " [\"Great thing about the internet is nothing is ever truly gone. Check the Doc's forecasted COVID 19 hospitalization and death numbers against the actual ones we have two months later. Bio-Statistician Knut M. Wittkowski – AIER - \"],\n",
              " ['Last two moves of BJP are completely ruined by COVID19. The Ahmadabad Great Wall : all destitute migrates are now on road and second @JM_Scindia Who wanted to help impoverished but got getting chance even after changing party'],\n",
              " ['40-Yr-Old Bijbehara Woman Dies Of Covid-19 At SKIMS, J&amp;K Toll Reaches 18 #Covid_19 #CoronaVirusUpdate #coronavirus #JammuKashmir #kashmir'],\n",
              " ['@maddow Scandal brewing in Florida on Covid 19: woman who did state dashboard fired after refusing to change data to more favorable for reopening; AdventHealth said 35,000 tests were false. Test lab says the federal government confiscated their chemicals.'],\n",
              " ['2020 Pandemia COVID 19 Governo jair bolsonaro 1179 óbitos Nenhum ministro na pasta da saúde'],\n",
              " ['#EnVivo #ConferenciaDePrensa \"Informe diario sobre coronavirus COVID19 en México\". 14.1 #Mxplay https://youtu.be/7IbdZRd_U-g http://facebook.com/canalcatorcemx'],\n",
              " ['Covid19 will never kill our most sacred traditions '],\n",
              " ['Salvar vidas, Usted conoce como compatriotas cada dia morian en los hospitales publicos ; se que la ciencia se enfrento a un letal enemigo no conocido ; la medida de tomar del examen covid-19, y esperar los resultados, dio ventaja al virus para matar a cientos de seres humanos'],\n",
              " ['OPS urge a proteger a poblaciones indígenas frente a la Covid-19 https://www.prensa-latina.cu/index.php?o=rn&amp;id=367398&amp;SEO=ops-urge-a-proteger-a-poblaciones-indigenas-frente-a-la-covid-19 #BloqueoNoSolidaridadSi #CubaPorLaSalud'],\n",
              " ['Conferencia de Prensa #COVID19 | 19 de mayo de 2020 @berthaliciag #QuedateEnCasa'],\n",
              " ['#CubaCoopera #CubaPorLaSalud #cubandoctors #CubaSalvaVidas #COVID19 '],\n",
              " ['minha prima tá com covid-19'],\n",
              " ['Texas reports 64 new cases and 2 new deaths bringing total confirmed cases there to 50,659 and 1,402 total deaths, with 975 new cases and 33 new deaths reported today. #CoronaVirus #Covid19 #CoronaVirusOutbreak'],\n",
              " ['Pier 1 Imports is permanently closing its retail stores due to the COVID-19 pandemic '],\n",
              " ['#Pruebas | #Efectividad | #COVID19 | '],\n",
              " ['@TheBlackCaucus did I miss the covid19 resources for #ADOS &amp; families!? America is fighting hard for the undocumented while acting purposefully obtuse when we demand reparations In stead of our ancestors for work that has already been done!'],\n",
              " ['Lost my grandpa the first day of senior year, lost my grandma at the end of senior year to COVID-19 . this one is for y’all '],\n",
              " ['Foram 1179 mortes no país. Mil cento e setenta e nove. O teu rolê na Orla sem máscara, a tua reunião com os amigos que tu tem a coragem de expor no Instagram, a insistência em dizer que é uma gripezinha contribuem para que esse número só aumente. Covid-19 NÃO É uma brincadeira!'],\n",
              " ['“If any of them have covid 19”. There are 1-4 people a day getting infected with this virus which is less dangerous than a common cold. More people will have died of nut allergies this year. The Gov measures are completely illogical. Ridiculous - you should be angry at gov'],\n",
              " ['ANP alerta sobre riscos do uso de álcool combustível contra covid-19 - Leia Notícias '],\n",
              " ['I took a look at where the world’s busiest flight routes are in the age of #COVID19. You won’t find SYD-MEL in the top 5 any more #avgeek @TravellerAU'],\n",
              " ['Day 60 - At Home #Covid_19'],\n",
              " ['Hace dos meses, dos perros en Hong Kong cuyos anfitriones fueron hospitalizados con COVID-19, fueron analizados y se les detectó ARN del coronavirus SARS-CoV-2, así como anticuerpos contra él. https://www.objetivosur.com.ar/2020/05/19/covid-19-analisis-confirma-que-perros-de-personas-infectadas-tenian-el-virus/'],\n",
              " ['The governor claims he is more concerned about security than covid19. '],\n",
              " ['Faltan estudios para determinar posible beneficio del remdesivir en el tratamiento de CoVID19 - '],\n",
              " ['Se trata de un electrocardiógrafo que estaba en la sala COVID - 19 de médicos, y tiene un costo aproximado de 1.500 dólares. '],\n",
              " ['\"We believe that \\'Stay Safe to Stay Open\\' is a campaign that resonates because businesses want to be open,\" @DerekMillerUtah told me. \"And if they want to be open in this current environment, they need to stay safe.\" https://www.fox13now.com/news/coronavirus/local-coronavirus-news/utah-businesses-seek-to-boost-consumer-confidence-by-making-covid-19-safety-pledges @fox13 #utpol #Utah #COVID19'],\n",
              " [\"@HBLPak I want to get some detailed information about HBL personal loan. I can't visit the branch due to current covid19 circumstances and to avoid long wait outside the branch. I am from Lahore. Can HBL arrange a call for me in this regard?? Waiting for your response plz\"],\n",
              " ['The Lancet (psychiatry) 18 mai 2020 / Effets différés notamment du Covid-19 / Psychiatric and neuropsychiatric presentations associated with severe coronavirus infections: a systematic review and meta-analysis with comparison to the COVID-19 pandemic '],\n",
              " ['Comparing the risk of driving and covid19 is silly. Terrible take tbh'],\n",
              " ['#TraposBlancosVsHambre @lopezobrador_ Nadie se preocupa por los problemas de la gente que vive al día, los obliga a salir con el riesgo de contagiarse de covid-19.'],\n",
              " ['Pela 1ª vez, Brasil soma mais de mil mortes ao balanço diário e agora tem 17.971 vítimas da Covid-19 https://blogdofsilva.com.br/pela-1a-vez-brasil-soma-mais-de-mil-mortes-ao-balanco-diario-e-agora-tem-17-971-vitimas-da-covid-19/ via @Blog do F. Silva | Plantão de últimas notícias sobre o Rio ...'],\n",
              " ['Agradeció la entrega de mil pruebas rápidas de COVID-19, “imprescindibles para contribuir a la lucha contra la enfermedad, que como otras entregadas por el candidato presidencial y su partido, serán aplicadas totalmente gratis”. https://elnuevodiario.com.do/cruz-jiminian-felicita-a-luis-abinader-por-programa-ruta-solidaria-entrega-mil-pruebas-rapidas-de-covid-19/ #ElNuevoDiarioRD'],\n",
              " ['A bandeira quando usada como símbolo pelo Bozo lelê torna-se uma mortalha com milhares morrendo de COVID-19.'],\n",
              " ['Covid-19: Fronteira entre EUA e Canadá permanece fechada até 21 de junho '],\n",
              " ['Thought: I feel all those making stupid money should have a pay cut. Sure there is a lot of us advanced in certain areas, but for all the millions, billions going to certain folks is ridiculous. We deserve something for our different talents but not to go overboard!! #covid19'],\n",
              " ['\"Recovered COVID-19 patients test positive but not infectious\" #Covid_19 '],\n",
              " ['#PrevenciónyAcción \"La emergencia sanitaria se extenderá por 3 meses hasta el 31 de agosto, esto quiere decir que estamos en alerta y estaremos tomando medidas para ir enfrentando el covid-19 en nuestro país\": presidente @IvanDuque'],\n",
              " ['Navajo Nation hit hard by #COVID19 '],\n",
              " ['Olha aí como o presidente está preocupado com as quase 18 mil mortes por covid 19 no Brasil. É um ultraje! Ele ri dos mortos, ele ri do próprio povo. '],\n",
              " ['Por cuarta vez, en Colombia fallecieron 21 personas en un día y contagiados 16.935 personas. Atlántico (57), Barranquilla (39) https://notiweb.co/colombia-iguala-record-de-muertes-en-un-dia-y-llega-a-16-935-contagios/ #Covid_19 #LoUltimo'],\n",
              " ['Coronavirus / COVID-19 Special Update 10 https://youtu.be/aGTMw95SFJs via @YouTube'],\n",
              " ['$$$$$$$$or HUMAN LIFE....which is mor... by BUZZARDSKORNER OF LOVE RADIO https://www.blogtalkradio.com/buzzardskorner-of-love/2020/05/19/or-human-lifewhich-is-more-important-to-you#.XsRyw1_jaHk.twitter Questions that humanity will have to answer as we move forward through this COVID19 experience. Whats your answer?'],\n",
              " ['#covidwarriors #COVID19 #nursessave #angelsetfree #KindnessStartsWithASmile A soldier never gives up and so do our medical community....hats off to the nurses and #doctors across the globe....you are the most beautiful souls in the universe Wishing you all health and #happiness'],\n",
              " ['COVID-19 and food security: Yahoo News hosts virtual town hall with Joe Biden and chef José Andrés https://news.yahoo.com/biden-jose-andres-yahoo-news-live-virtual-town-hall-covid-19-food-security-175948159.html?soc_src=community&amp;soc_trk=tw via @Yahoo'],\n",
              " ['Enough said. #covid19 #COVIDIDIOTS #SocialDistance #CoronavirusPandemic'],\n",
              " ['with all due respect, you have lost your mind, never forget the gas mask you wore to claim covid19 was a hoax #LockHimUp']]"
            ]
          },
          "metadata": {
            "tags": []
          },
          "execution_count": 44
        }
      ]
    },
    {
      "cell_type": "code",
      "metadata": {
        "id": "lBPNK_decMo5",
        "colab_type": "code",
        "colab": {}
      },
      "source": [
        "final_words=[word for word in tokenized if word not in stopwords]"
      ],
      "execution_count": null,
      "outputs": []
    },
    {
      "cell_type": "code",
      "metadata": {
        "id": "1TDy6VbgfpWp",
        "colab_type": "code",
        "colab": {
          "base_uri": "https://localhost:8080/",
          "height": 54
        },
        "outputId": "8538f410-df09-4158-ba90-4a5531eb7d3a"
      },
      "source": [
        "emotions_lists=[]\n",
        "with open('emotions.txt','r') as file:\n",
        "  for line in file:\n",
        "    clear_line=line.replace('\\n','').replace(',', '').replace(\"'\",'').strip()\n",
        "    word,emotions = clear_line.split(':')\n",
        "    if word in final_words:\n",
        "      emotions_lists.append(emotions)\n",
        "\n",
        "K=Counter(emotions_lists)\n",
        "print(K)"
      ],
      "execution_count": null,
      "outputs": [
        {
          "output_type": "stream",
          "text": [
            "Counter({' happy': 5, ' attracted': 4, ' sad': 2, ' angry': 1, ' attached': 1, ' fearless': 1, ' cheated': 1, ' fearful': 1, ' average': 1, ' hated': 1, ' entitled': 1, ' lost': 1, ' free': 1, ' independent': 1})\n"
          ],
          "name": "stdout"
        }
      ]
    },
    {
      "cell_type": "code",
      "metadata": {
        "id": "Ai-oGfoZf3f8",
        "colab_type": "code",
        "colab": {
          "base_uri": "https://localhost:8080/",
          "height": 276
        },
        "outputId": "793b0438-bc7f-4354-a865-2bbc2d3d62e1"
      },
      "source": [
        "fig, ax1 = plt.subplots()\n",
        "ax1.bar(w.keys(), w.values())\n",
        "fig.autofmt_xdate()\n",
        "plt.savefig('graph1.png')\n",
        "plt.show()"
      ],
      "execution_count": null,
      "outputs": [
        {
          "output_type": "display_data",
          "data": {
            "image/png": "[encoded data removed]",
            "text/plain": [
              "<Figure size 432x288 with 1 Axes>"
            ]
          },
          "metadata": {
            "tags": [],
            "needs_background": "light"
          }
        }
      ]
    },
    {
      "cell_type": "code",
      "metadata": {
        "id": "q_323PUff3lm",
        "colab_type": "code",
        "colab": {
          "base_uri": "https://localhost:8080/",
          "height": 276
        },
        "outputId": "68c572fd-cfc9-4062-d902-e4f93c7f8f48"
      },
      "source": [
        "fig, ax1 = plt.subplots()\n",
        "ax1.bar(K.keys(), K.values())\n",
        "fig.autofmt_xdate()\n",
        "plt.savefig('graph2.png')\n",
        "plt.show()"
      ],
      "execution_count": null,
      "outputs": [
        {
          "output_type": "display_data",
          "data": {
            "image/png": "[encoded data removed]",
            "text/plain": [
              "<Figure size 432x288 with 1 Axes>"
            ]
          },
          "metadata": {
            "tags": [],
            "needs_background": "light"
          }
        }
      ]
    },
    {
      "cell_type": "markdown",
      "metadata": {
        "id": "gLye284WgdE1",
        "colab_type": "text"
      },
      "source": [
        ""
      ]
    },
    {
      "cell_type": "code",
      "metadata": {
        "id": "omh0PtungdTh",
        "colab_type": "code",
        "colab": {}
      },
      "source": [
        ""
      ],
      "execution_count": null,
      "outputs": []
    },
    {
      "cell_type": "code",
      "metadata": {
        "id": "2-rMOXgBgdhl",
        "colab_type": "code",
        "colab": {}
      },
      "source": [
        ""
      ],
      "execution_count": null,
      "outputs": []
    },
    {
      "cell_type": "code",
      "metadata": {
        "id": "FtOdhmyNgeJm",
        "colab_type": "code",
        "colab": {}
      },
      "source": [
        ""
      ],
      "execution_count": null,
      "outputs": []
    },
    {
      "cell_type": "code",
      "metadata": {
        "id": "wQNT80UDgeSg",
        "colab_type": "code",
        "colab": {}
      },
      "source": [
        ""
      ],
      "execution_count": null,
      "outputs": []
    },
    {
      "cell_type": "code",
      "metadata": {
        "id": "uB9f0iyRgePw",
        "colab_type": "code",
        "colab": {}
      },
      "source": [
        ""
      ],
      "execution_count": null,
      "outputs": []
    },
    {
      "cell_type": "code",
      "metadata": {
        "id": "fZYJAAjNgeG7",
        "colab_type": "code",
        "colab": {}
      },
      "source": [
        ""
      ],
      "execution_count": null,
      "outputs": []
    },
    {
      "cell_type": "code",
      "metadata": {
        "id": "ABvHhwEvgeEs",
        "colab_type": "code",
        "colab": {}
      },
      "source": [
        ""
      ],
      "execution_count": null,
      "outputs": []
    },
    {
      "cell_type": "code",
      "metadata": {
        "id": "B7xGC5z7geBk",
        "colab_type": "code",
        "colab": {}
      },
      "source": [
        ""
      ],
      "execution_count": null,
      "outputs": []
    },
    {
      "cell_type": "code",
      "metadata": {
        "id": "0HwhSfopgd_b",
        "colab_type": "code",
        "colab": {}
      },
      "source": [
        ""
      ],
      "execution_count": null,
      "outputs": []
    },
    {
      "cell_type": "code",
      "metadata": {
        "id": "30sfJ8Plgd8N",
        "colab_type": "code",
        "colab": {}
      },
      "source": [
        ""
      ],
      "execution_count": null,
      "outputs": []
    },
    {
      "cell_type": "code",
      "metadata": {
        "id": "wtH-A5aMgd6W",
        "colab_type": "code",
        "colab": {}
      },
      "source": [
        ""
      ],
      "execution_count": null,
      "outputs": []
    },
    {
      "cell_type": "code",
      "metadata": {
        "id": "IEdj7B7xgd4l",
        "colab_type": "code",
        "colab": {}
      },
      "source": [
        ""
      ],
      "execution_count": null,
      "outputs": []
    },
    {
      "cell_type": "code",
      "metadata": {
        "id": "hKTfOKirgd2V",
        "colab_type": "code",
        "colab": {}
      },
      "source": [
        ""
      ],
      "execution_count": null,
      "outputs": []
    },
    {
      "cell_type": "code",
      "metadata": {
        "id": "7K3lRkj-gd0Y",
        "colab_type": "code",
        "colab": {}
      },
      "source": [
        ""
      ],
      "execution_count": null,
      "outputs": []
    },
    {
      "cell_type": "code",
      "metadata": {
        "id": "APHYjmLzgdyU",
        "colab_type": "code",
        "colab": {}
      },
      "source": [
        ""
      ],
      "execution_count": null,
      "outputs": []
    },
    {
      "cell_type": "code",
      "metadata": {
        "id": "hDqLX6VIgdv9",
        "colab_type": "code",
        "colab": {}
      },
      "source": [
        ""
      ],
      "execution_count": null,
      "outputs": []
    },
    {
      "cell_type": "code",
      "metadata": {
        "id": "qXQy4vsegdtE",
        "colab_type": "code",
        "colab": {}
      },
      "source": [
        ""
      ],
      "execution_count": null,
      "outputs": []
    },
    {
      "cell_type": "code",
      "metadata": {
        "id": "e5cEh-9NgdfW",
        "colab_type": "code",
        "colab": {}
      },
      "source": [
        ""
      ],
      "execution_count": null,
      "outputs": []
    },
    {
      "cell_type": "code",
      "metadata": {
        "id": "1eilNXmtgddQ",
        "colab_type": "code",
        "colab": {}
      },
      "source": [
        ""
      ],
      "execution_count": null,
      "outputs": []
    },
    {
      "cell_type": "code",
      "metadata": {
        "id": "bRkspF3LgdbI",
        "colab_type": "code",
        "colab": {}
      },
      "source": [
        ""
      ],
      "execution_count": null,
      "outputs": []
    },
    {
      "cell_type": "code",
      "metadata": {
        "id": "qk8yAVW-gdZf",
        "colab_type": "code",
        "colab": {}
      },
      "source": [
        ""
      ],
      "execution_count": null,
      "outputs": []
    },
    {
      "cell_type": "code",
      "metadata": {
        "id": "ORxan-GSgdQ9",
        "colab_type": "code",
        "colab": {}
      },
      "source": [
        ""
      ],
      "execution_count": null,
      "outputs": []
    },
    {
      "cell_type": "code",
      "metadata": {
        "id": "KHzXdPJRgdMk",
        "colab_type": "code",
        "colab": {}
      },
      "source": [
        ""
      ],
      "execution_count": null,
      "outputs": []
    },
    {
      "cell_type": "code",
      "metadata": {
        "id": "w-JhfglGgdK7",
        "colab_type": "code",
        "colab": {}
      },
      "source": [
        ""
      ],
      "execution_count": null,
      "outputs": []
    },
    {
      "cell_type": "code",
      "metadata": {
        "id": "qVTth6Lpgcx2",
        "colab_type": "code",
        "colab": {}
      },
      "source": [
        ""
      ],
      "execution_count": null,
      "outputs": []
    },
    {
      "cell_type": "code",
      "metadata": {
        "id": "-9M8T0Mmgcv6",
        "colab_type": "code",
        "colab": {}
      },
      "source": [
        ""
      ],
      "execution_count": null,
      "outputs": []
    },
    {
      "cell_type": "code",
      "metadata": {
        "id": "OEwaGoOggcte",
        "colab_type": "code",
        "colab": {}
      },
      "source": [
        ""
      ],
      "execution_count": null,
      "outputs": []
    },
    {
      "cell_type": "code",
      "metadata": {
        "id": "V8_nEiBQgcqc",
        "colab_type": "code",
        "colab": {}
      },
      "source": [
        ""
      ],
      "execution_count": null,
      "outputs": []
    },
    {
      "cell_type": "code",
      "metadata": {
        "id": "QKZHyOY7gckW",
        "colab_type": "code",
        "colab": {}
      },
      "source": [
        ""
      ],
      "execution_count": null,
      "outputs": []
    }
  ]
}